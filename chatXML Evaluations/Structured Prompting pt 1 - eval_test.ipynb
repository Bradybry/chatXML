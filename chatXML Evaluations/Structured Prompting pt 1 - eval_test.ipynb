{
 "cells": [
  {
   "attachments": {},
   "cell_type": "markdown",
   "metadata": {},
   "source": [
    "# GPT-3.5 vs GPT-4 vs ChatXML vs ChatXML w/ CoT\n",
    "This notebook uses the infinite loop match eval from the OpenAI eval repo to test various models and prompt methods. Nothing about this analysis is very comprehensive but I do think it will serve as a useful playground for those who want to experiment with structured prompting and quantitative prompt evaluation. \n",
    "\n",
    "The OpenAI evals are supposed to be topics that GPT-4 struggles with so the performance is relatively poor across all examples. \n",
    "\n",
    "Here's a table summarizing the  results:\n",
    "\n",
    "| Model                 | Precision | Recall | F1-score | Accuracy |\n",
    "|-----------------------|-----------|--------|----------|----------|\n",
    "| Raw GPT-3.5           | 0.41      | 0.70   | 0.36     | 0.52     |\n",
    "| Raw GPT-4             | 0.74      | 0.72   | 0.68     | 0.53     |\n",
    "| ChatXML GPT-3.5       | 0.41      | 0.67   | 0.36     | 0.50     |\n",
    "| ChatXML with GPT-4    | 0.42      | 0.73   | 0.35     | 0.54     |\n",
    "| ChatXML with GPT-4 and COT | 0.39 | 0.71   | 0.38     | 0.56     |\n",
    "| Claude-V1.3 and COT                | 0.75      | 0.76   | 0.75     | 0.63     |\n",
    "\n",
    "This table includes the macro average values for Precision, Recall, F1-score, and Accuracy for each example. Based on these values, you can make a decision about the effectiveness of each score.\n",
    "\n",
    "The table above shows the classification performance of six different models on a classification dataset. The models are evaluated based on precision, recall, F1-score, and accuracy. \n",
    "\n",
    "Overall, it can be observed that the models have varying levels of effectiveness in their classification performance. The Claude model performs the best with an F1-score of 0.75, followed by the ChatXML with GPT-4 with an F1-score of 0.68. The Raw GPT-3.5 model has the lowest F1-score of 0.36. \n",
    "\n",
    "Still at the end of the day, the models struggle to do much better than random! I only looked through a few of the evals but I was surprised how badly written many of them are. I did not do a detailed review of the infinite loop set but I did find a few that looked ambigious to me but for the most part it looked like a good set.\n",
    "\n",
    "To be honest, I was hoping the evidence in favor of ChatXML would be more comprehensive. However, this analysis shows that while there are performance gains to be had, they probably don't warrant the additional tokens and latency that it costs in this case. I plan to do this exercise on mutliple evals in the near future to establish some quantitative prompt engineering results.\n",
    "\n",
    "### Warning!\n",
    "This notebook cost about $5 in API calls so be ready and be careful!"
   ]
  },
  {
   "cell_type": "code",
   "execution_count": 183,
   "metadata": {},
   "outputs": [],
   "source": [
    "import json\n",
    "import pandas as pd\n",
    "def xmlify(messages):\n",
    "    xml = ''\n",
    "    for message in messages:\n",
    "        xml += f'<message><source>{message[\"role\"]}</source><content>{message[\"content\"]}</content></message>'\n",
    "\n",
    "    xml = f'<input>{xml}</input>'\n",
    "    return xml\n",
    "\n",
    "from langchain.schema import HumanMessage, SystemMessage, AIMessage\n",
    "from langchain.chat_models import ChatOpenAI\n",
    "def no_prompt_complete(messages, model_params):\n",
    "    chatbot = ChatOpenAI(**model_params)\n",
    "    request_message = []\n",
    "    for message in messages:\n",
    "        if message['role'] == 'user':\n",
    "            formated_message = HumanMessage(content=message['content'])\n",
    "        elif message['role'] == 'system':\n",
    "            formated_message = SystemMessage(content= message['content'])\n",
    "        elif message['role'] == 'assistant':\n",
    "            formated_message = AIMessage(content= message['content'])\n",
    "        request_message.append(formated_message)\n",
    "    response = chatbot(request_message)\n",
    "    return response.content"
   ]
  },
  {
   "cell_type": "code",
   "execution_count": 62,
   "metadata": {},
   "outputs": [
    {
     "data": {
      "text/html": [
       "<div>\n",
       "<style scoped>\n",
       "    .dataframe tbody tr th:only-of-type {\n",
       "        vertical-align: middle;\n",
       "    }\n",
       "\n",
       "    .dataframe tbody tr th {\n",
       "        vertical-align: top;\n",
       "    }\n",
       "\n",
       "    .dataframe thead th {\n",
       "        text-align: right;\n",
       "    }\n",
       "</style>\n",
       "<table border=\"1\" class=\"dataframe\">\n",
       "  <thead>\n",
       "    <tr style=\"text-align: right;\">\n",
       "      <th></th>\n",
       "      <th>input</th>\n",
       "      <th>ideal</th>\n",
       "    </tr>\n",
       "  </thead>\n",
       "  <tbody>\n",
       "    <tr>\n",
       "      <th>0</th>\n",
       "      <td>[{'role': 'system', 'content': 'You have to de...</td>\n",
       "      <td>False</td>\n",
       "    </tr>\n",
       "    <tr>\n",
       "      <th>1</th>\n",
       "      <td>[{'role': 'system', 'content': 'You have to de...</td>\n",
       "      <td>True</td>\n",
       "    </tr>\n",
       "    <tr>\n",
       "      <th>2</th>\n",
       "      <td>[{'role': 'system', 'content': 'You have to de...</td>\n",
       "      <td>True</td>\n",
       "    </tr>\n",
       "    <tr>\n",
       "      <th>3</th>\n",
       "      <td>[{'role': 'system', 'content': 'You have to de...</td>\n",
       "      <td>True</td>\n",
       "    </tr>\n",
       "    <tr>\n",
       "      <th>4</th>\n",
       "      <td>[{'role': 'system', 'content': 'You have to de...</td>\n",
       "      <td>True</td>\n",
       "    </tr>\n",
       "  </tbody>\n",
       "</table>\n",
       "</div>"
      ],
      "text/plain": [
       "                                               input  ideal\n",
       "0  [{'role': 'system', 'content': 'You have to de...  False\n",
       "1  [{'role': 'system', 'content': 'You have to de...   True\n",
       "2  [{'role': 'system', 'content': 'You have to de...   True\n",
       "3  [{'role': 'system', 'content': 'You have to de...   True\n",
       "4  [{'role': 'system', 'content': 'You have to de...   True"
      ]
     },
     "execution_count": 62,
     "metadata": {},
     "output_type": "execute_result"
    }
   ],
   "source": [
    "file = 'data\\infiniteloop-match.jsonl'\n",
    "with open(file) as f:\n",
    "    lines = f.readlines()\n",
    "    lines = [json.loads(line) for line in lines]\n",
    "\n",
    "df = pd.DataFrame(lines)\n",
    "df.head()"
   ]
  },
  {
   "cell_type": "code",
   "execution_count": 63,
   "metadata": {},
   "outputs": [],
   "source": [
    "def extract(result):\n",
    "    result = result.lower()\n",
    "    if 'true' in result:\n",
    "        return 'True'\n",
    "    elif 'false' in result:\n",
    "        return 'False'\n",
    "    else:\n",
    "        return 'no answer'\n",
    "target_names = {0: 'False', 1: 'True', 3: 'no answer'}"
   ]
  },
  {
   "cell_type": "code",
   "execution_count": 64,
   "metadata": {},
   "outputs": [],
   "source": [
    "target_numbers = {v: k for k, v in target_names.items()}\n",
    "df['formatted_input'] = df.apply(lambda x: xmlify(x['input']), axis=1)\n",
    "df['ground_truth'] = df.ideal.map(target_numbers)"
   ]
  },
  {
   "attachments": {},
   "cell_type": "markdown",
   "metadata": {},
   "source": [
    "## Quick analysis of eval set"
   ]
  },
  {
   "cell_type": "code",
   "execution_count": 6,
   "metadata": {},
   "outputs": [
    {
     "data": {
      "text/plain": [
       "True     0.584158\n",
       "False    0.405941\n",
       "         0.009901\n",
       "Name: ideal, dtype: float64"
      ]
     },
     "execution_count": 6,
     "metadata": {},
     "output_type": "execute_result"
    }
   ],
   "source": [
    "df.ideal.value_counts() / len(df) # check the distribution of the ground truth"
   ]
  },
  {
   "attachments": {},
   "cell_type": "markdown",
   "metadata": {},
   "source": [
    "It appears there is one outlier. Let's remove it from the data. The dataset is slightly imbalanced at approximately 60:40. This should not matter since we are not training any models. However, it may become relevant when experimenting with uncertainty quantification."
   ]
  },
  {
   "cell_type": "code",
   "execution_count": 7,
   "metadata": {},
   "outputs": [],
   "source": [
    "df = df.dropna()"
   ]
  },
  {
   "cell_type": "code",
   "execution_count": 9,
   "metadata": {},
   "outputs": [],
   "source": [
    "# To save API $$$, let's sample 100 examples\n",
    "df = df.sample(100, random_state=42)"
   ]
  },
  {
   "attachments": {},
   "cell_type": "markdown",
   "metadata": {},
   "source": [
    "## Evaluation against GPT-3.5-turbo using base eval settings"
   ]
  },
  {
   "cell_type": "code",
   "execution_count": 10,
   "metadata": {},
   "outputs": [],
   "source": [
    "turbo_params = {'model_name': 'gpt-3.5-turbo', 'temperature': 0.0, 'frequency_penalty': 1.0, 'presence_penalty': 0.5, 'n': 1, 'max_tokens': 64}"
   ]
  },
  {
   "cell_type": "code",
   "execution_count": 11,
   "metadata": {},
   "outputs": [
    {
     "data": {
      "text/html": [
       "<div>\n",
       "<style scoped>\n",
       "    .dataframe tbody tr th:only-of-type {\n",
       "        vertical-align: middle;\n",
       "    }\n",
       "\n",
       "    .dataframe tbody tr th {\n",
       "        vertical-align: top;\n",
       "    }\n",
       "\n",
       "    .dataframe thead th {\n",
       "        text-align: right;\n",
       "    }\n",
       "</style>\n",
       "<table border=\"1\" class=\"dataframe\">\n",
       "  <thead>\n",
       "    <tr style=\"text-align: right;\">\n",
       "      <th></th>\n",
       "      <th>input</th>\n",
       "      <th>ideal</th>\n",
       "      <th>formatted_input</th>\n",
       "      <th>ground_truth</th>\n",
       "      <th>base</th>\n",
       "      <th>base_answer</th>\n",
       "      <th>base_pred</th>\n",
       "    </tr>\n",
       "  </thead>\n",
       "  <tbody>\n",
       "    <tr>\n",
       "      <th>84</th>\n",
       "      <td>[{'role': 'system', 'content': 'You have to de...</td>\n",
       "      <td>False</td>\n",
       "      <td>&lt;input&gt;&lt;message&gt;&lt;source&gt;system&lt;/source&gt;&lt;conten...</td>\n",
       "      <td>0.0</td>\n",
       "      <td>False. \\n\\nThe loop will exit when one of the ...</td>\n",
       "      <td>no answer</td>\n",
       "      <td>3</td>\n",
       "    </tr>\n",
       "    <tr>\n",
       "      <th>53</th>\n",
       "      <td>[{'role': 'system', 'content': 'You have to de...</td>\n",
       "      <td>False</td>\n",
       "      <td>&lt;input&gt;&lt;message&gt;&lt;source&gt;system&lt;/source&gt;&lt;conten...</td>\n",
       "      <td>0.0</td>\n",
       "      <td>False, this code defines a function but doesn'...</td>\n",
       "      <td>no answer</td>\n",
       "      <td>3</td>\n",
       "    </tr>\n",
       "    <tr>\n",
       "      <th>71</th>\n",
       "      <td>[{'role': 'system', 'content': 'You have to de...</td>\n",
       "      <td>True</td>\n",
       "      <td>&lt;input&gt;&lt;message&gt;&lt;source&gt;system&lt;/source&gt;&lt;conten...</td>\n",
       "      <td>1.0</td>\n",
       "      <td>False. The code will eventually stop running a...</td>\n",
       "      <td>no answer</td>\n",
       "      <td>3</td>\n",
       "    </tr>\n",
       "    <tr>\n",
       "      <th>45</th>\n",
       "      <td>[{'role': 'system', 'content': 'You have to de...</td>\n",
       "      <td>False</td>\n",
       "      <td>&lt;input&gt;&lt;message&gt;&lt;source&gt;system&lt;/source&gt;&lt;conten...</td>\n",
       "      <td>0.0</td>\n",
       "      <td>False. This code will not run forever because ...</td>\n",
       "      <td>no answer</td>\n",
       "      <td>3</td>\n",
       "    </tr>\n",
       "    <tr>\n",
       "      <th>44</th>\n",
       "      <td>[{'role': 'system', 'content': 'You have to de...</td>\n",
       "      <td>True</td>\n",
       "      <td>&lt;input&gt;&lt;message&gt;&lt;source&gt;system&lt;/source&gt;&lt;conten...</td>\n",
       "      <td>1.0</td>\n",
       "      <td>False. \\n\\nThe code will eventually stop becau...</td>\n",
       "      <td>no answer</td>\n",
       "      <td>3</td>\n",
       "    </tr>\n",
       "  </tbody>\n",
       "</table>\n",
       "</div>"
      ],
      "text/plain": [
       "                                                input  ideal  \\\n",
       "84  [{'role': 'system', 'content': 'You have to de...  False   \n",
       "53  [{'role': 'system', 'content': 'You have to de...  False   \n",
       "71  [{'role': 'system', 'content': 'You have to de...   True   \n",
       "45  [{'role': 'system', 'content': 'You have to de...  False   \n",
       "44  [{'role': 'system', 'content': 'You have to de...   True   \n",
       "\n",
       "                                      formatted_input  ground_truth  \\\n",
       "84  <input><message><source>system</source><conten...           0.0   \n",
       "53  <input><message><source>system</source><conten...           0.0   \n",
       "71  <input><message><source>system</source><conten...           1.0   \n",
       "45  <input><message><source>system</source><conten...           0.0   \n",
       "44  <input><message><source>system</source><conten...           1.0   \n",
       "\n",
       "                                                 base base_answer  base_pred  \n",
       "84  False. \\n\\nThe loop will exit when one of the ...   no answer          3  \n",
       "53  False, this code defines a function but doesn'...   no answer          3  \n",
       "71  False. The code will eventually stop running a...   no answer          3  \n",
       "45  False. This code will not run forever because ...   no answer          3  \n",
       "44  False. \\n\\nThe code will eventually stop becau...   no answer          3  "
      ]
     },
     "execution_count": 11,
     "metadata": {},
     "output_type": "execute_result"
    }
   ],
   "source": [
    "df['base'] = df.apply(lambda x: no_prompt_complete(x['input'], turbo_params), axis=1)"
   ]
  },
  {
   "cell_type": "code",
   "execution_count": 34,
   "metadata": {},
   "outputs": [
    {
     "data": {
      "text/html": [
       "<div>\n",
       "<style scoped>\n",
       "    .dataframe tbody tr th:only-of-type {\n",
       "        vertical-align: middle;\n",
       "    }\n",
       "\n",
       "    .dataframe tbody tr th {\n",
       "        vertical-align: top;\n",
       "    }\n",
       "\n",
       "    .dataframe thead th {\n",
       "        text-align: right;\n",
       "    }\n",
       "</style>\n",
       "<table border=\"1\" class=\"dataframe\">\n",
       "  <thead>\n",
       "    <tr style=\"text-align: right;\">\n",
       "      <th></th>\n",
       "      <th>input</th>\n",
       "      <th>ideal</th>\n",
       "      <th>formatted_input</th>\n",
       "      <th>ground_truth</th>\n",
       "      <th>base</th>\n",
       "      <th>base_answer</th>\n",
       "      <th>base_pred</th>\n",
       "    </tr>\n",
       "  </thead>\n",
       "  <tbody>\n",
       "    <tr>\n",
       "      <th>84</th>\n",
       "      <td>[{'role': 'system', 'content': 'You have to de...</td>\n",
       "      <td>False</td>\n",
       "      <td>&lt;input&gt;&lt;message&gt;&lt;source&gt;system&lt;/source&gt;&lt;conten...</td>\n",
       "      <td>0.0</td>\n",
       "      <td>False. \\n\\nThe loop will exit when one of the ...</td>\n",
       "      <td>False</td>\n",
       "      <td>0</td>\n",
       "    </tr>\n",
       "    <tr>\n",
       "      <th>53</th>\n",
       "      <td>[{'role': 'system', 'content': 'You have to de...</td>\n",
       "      <td>False</td>\n",
       "      <td>&lt;input&gt;&lt;message&gt;&lt;source&gt;system&lt;/source&gt;&lt;conten...</td>\n",
       "      <td>0.0</td>\n",
       "      <td>False, this code defines a function but doesn'...</td>\n",
       "      <td>False</td>\n",
       "      <td>0</td>\n",
       "    </tr>\n",
       "    <tr>\n",
       "      <th>71</th>\n",
       "      <td>[{'role': 'system', 'content': 'You have to de...</td>\n",
       "      <td>True</td>\n",
       "      <td>&lt;input&gt;&lt;message&gt;&lt;source&gt;system&lt;/source&gt;&lt;conten...</td>\n",
       "      <td>1.0</td>\n",
       "      <td>False. The code will eventually stop running a...</td>\n",
       "      <td>False</td>\n",
       "      <td>0</td>\n",
       "    </tr>\n",
       "    <tr>\n",
       "      <th>45</th>\n",
       "      <td>[{'role': 'system', 'content': 'You have to de...</td>\n",
       "      <td>False</td>\n",
       "      <td>&lt;input&gt;&lt;message&gt;&lt;source&gt;system&lt;/source&gt;&lt;conten...</td>\n",
       "      <td>0.0</td>\n",
       "      <td>False. This code will not run forever because ...</td>\n",
       "      <td>False</td>\n",
       "      <td>0</td>\n",
       "    </tr>\n",
       "    <tr>\n",
       "      <th>44</th>\n",
       "      <td>[{'role': 'system', 'content': 'You have to de...</td>\n",
       "      <td>True</td>\n",
       "      <td>&lt;input&gt;&lt;message&gt;&lt;source&gt;system&lt;/source&gt;&lt;conten...</td>\n",
       "      <td>1.0</td>\n",
       "      <td>False. \\n\\nThe code will eventually stop becau...</td>\n",
       "      <td>True</td>\n",
       "      <td>1</td>\n",
       "    </tr>\n",
       "  </tbody>\n",
       "</table>\n",
       "</div>"
      ],
      "text/plain": [
       "                                                input  ideal  \\\n",
       "84  [{'role': 'system', 'content': 'You have to de...  False   \n",
       "53  [{'role': 'system', 'content': 'You have to de...  False   \n",
       "71  [{'role': 'system', 'content': 'You have to de...   True   \n",
       "45  [{'role': 'system', 'content': 'You have to de...  False   \n",
       "44  [{'role': 'system', 'content': 'You have to de...   True   \n",
       "\n",
       "                                      formatted_input  ground_truth  \\\n",
       "84  <input><message><source>system</source><conten...           0.0   \n",
       "53  <input><message><source>system</source><conten...           0.0   \n",
       "71  <input><message><source>system</source><conten...           1.0   \n",
       "45  <input><message><source>system</source><conten...           0.0   \n",
       "44  <input><message><source>system</source><conten...           1.0   \n",
       "\n",
       "                                                 base base_answer  base_pred  \n",
       "84  False. \\n\\nThe loop will exit when one of the ...       False          0  \n",
       "53  False, this code defines a function but doesn'...       False          0  \n",
       "71  False. The code will eventually stop running a...       False          0  \n",
       "45  False. This code will not run forever because ...       False          0  \n",
       "44  False. \\n\\nThe code will eventually stop becau...        True          1  "
      ]
     },
     "execution_count": 34,
     "metadata": {},
     "output_type": "execute_result"
    }
   ],
   "source": [
    "df['base_answer'] = df.apply(lambda x: extract(x['base']), axis=1)\n",
    "df['base_pred'] = df.base_answer.map(target_numbers)\n",
    "df.head()"
   ]
  },
  {
   "cell_type": "code",
   "execution_count": 36,
   "metadata": {},
   "outputs": [
    {
     "name": "stdout",
     "output_type": "stream",
     "text": [
      "              precision    recall  f1-score   support\n",
      "\n",
      "       False       0.49      0.71      0.58        41\n",
      "        True       0.74      0.39      0.51        59\n",
      "   no answer       0.00      1.00      0.00         0\n",
      "\n",
      "    accuracy                           0.52       100\n",
      "   macro avg       0.41      0.70      0.36       100\n",
      "weighted avg       0.64      0.52      0.54       100\n",
      "\n"
     ]
    }
   ],
   "source": [
    "from sklearn.metrics import classification_report\n",
    "\n",
    "y_true = df['ground_truth']\n",
    "y_pred = df['base_pred']\n",
    "report = classification_report(y_true, y_pred,target_names=target_names.values(), labels=list(target_names.keys()), zero_division=1)\n",
    "print(report)"
   ]
  },
  {
   "cell_type": "code",
   "execution_count": 38,
   "metadata": {},
   "outputs": [
    {
     "data": {
      "text/plain": [
       "<sklearn.metrics._plot.confusion_matrix.ConfusionMatrixDisplay at 0x2507c91e9a0>"
      ]
     },
     "execution_count": 38,
     "metadata": {},
     "output_type": "execute_result"
    },
    {
     "data": {
      "image/png": "[encoded data removed]",
      "text/plain": [
       "<Figure size 640x480 with 2 Axes>"
      ]
     },
     "metadata": {},
     "output_type": "display_data"
    }
   ],
   "source": [
    "from sklearn.metrics import confusion_matrix, ConfusionMatrixDisplay\n",
    "matrix = confusion_matrix(y_true, y_pred, labels=list(target_names.keys()))\n",
    "disp = ConfusionMatrixDisplay(confusion_matrix=matrix, display_labels=target_names.values())\n",
    "disp.plot()"
   ]
  },
  {
   "attachments": {},
   "cell_type": "markdown",
   "metadata": {},
   "source": [
    "Not bad. Let's see which responses were resulting in no answer."
   ]
  },
  {
   "cell_type": "code",
   "execution_count": 50,
   "metadata": {},
   "outputs": [
    {
     "name": "stdout",
     "output_type": "stream",
     "text": [
      "The given code will stop and return a value. It loops through a range and only has one while loop that depends on the values of `balance` and `spins_left`. Since they are both finite values, it is guaranteed to eventually exit the while loop. Therefore, it will not run forever.\n"
     ]
    }
   ],
   "source": [
    "print(df[df.base_pred==3].sample(1)['base'].iloc[0])"
   ]
  },
  {
   "attachments": {},
   "cell_type": "markdown",
   "metadata": {},
   "source": [
    "It appears the model failed to output in the correct format. You can verify if the answer is correct. Including this in the \"no answer\" pot makes sense. We did not ask the model to perform any chaining or coherent reasoning, yet it spontaneously backed up its answers in most responses. Whether it did this at the beginning or end of the response was somewhat random, so most examples did not actually benefit from the use of Chaining of Thought.\n",
    "\n",
    "Looking at other examples, increasing the token count may help as well. However, for now, let's conserve tokens and experiment with what we can achieve in 64 tokens. Also, since we did not request any chaining of thought, let's ignore it for the time being. We will revisit this later."
   ]
  },
  {
   "attachments": {},
   "cell_type": "markdown",
   "metadata": {},
   "source": [
    "## Evaluation against GPT-4 using base eval settings"
   ]
  },
  {
   "cell_type": "code",
   "execution_count": 51,
   "metadata": {},
   "outputs": [],
   "source": [
    "gpt4_params = {'model_name': 'gpt-4', 'temperature': 0.0, 'frequency_penalty': 1.0, 'presence_penalty': 0.5, 'n': 1, 'max_tokens': 64}"
   ]
  },
  {
   "cell_type": "code",
   "execution_count": 52,
   "metadata": {},
   "outputs": [
    {
     "data": {
      "text/html": [
       "<div>\n",
       "<style scoped>\n",
       "    .dataframe tbody tr th:only-of-type {\n",
       "        vertical-align: middle;\n",
       "    }\n",
       "\n",
       "    .dataframe tbody tr th {\n",
       "        vertical-align: top;\n",
       "    }\n",
       "\n",
       "    .dataframe thead th {\n",
       "        text-align: right;\n",
       "    }\n",
       "</style>\n",
       "<table border=\"1\" class=\"dataframe\">\n",
       "  <thead>\n",
       "    <tr style=\"text-align: right;\">\n",
       "      <th></th>\n",
       "      <th>input</th>\n",
       "      <th>ideal</th>\n",
       "      <th>formatted_input</th>\n",
       "      <th>ground_truth</th>\n",
       "      <th>base</th>\n",
       "      <th>base_answer</th>\n",
       "      <th>base_pred</th>\n",
       "    </tr>\n",
       "  </thead>\n",
       "  <tbody>\n",
       "    <tr>\n",
       "      <th>84</th>\n",
       "      <td>[{'role': 'system', 'content': 'You have to de...</td>\n",
       "      <td>False</td>\n",
       "      <td>&lt;input&gt;&lt;message&gt;&lt;source&gt;system&lt;/source&gt;&lt;conten...</td>\n",
       "      <td>0.0</td>\n",
       "      <td>False</td>\n",
       "      <td>False</td>\n",
       "      <td>0</td>\n",
       "    </tr>\n",
       "    <tr>\n",
       "      <th>53</th>\n",
       "      <td>[{'role': 'system', 'content': 'You have to de...</td>\n",
       "      <td>False</td>\n",
       "      <td>&lt;input&gt;&lt;message&gt;&lt;source&gt;system&lt;/source&gt;&lt;conten...</td>\n",
       "      <td>0.0</td>\n",
       "      <td>False</td>\n",
       "      <td>False</td>\n",
       "      <td>0</td>\n",
       "    </tr>\n",
       "    <tr>\n",
       "      <th>71</th>\n",
       "      <td>[{'role': 'system', 'content': 'You have to de...</td>\n",
       "      <td>True</td>\n",
       "      <td>&lt;input&gt;&lt;message&gt;&lt;source&gt;system&lt;/source&gt;&lt;conten...</td>\n",
       "      <td>1.0</td>\n",
       "      <td>False</td>\n",
       "      <td>False</td>\n",
       "      <td>0</td>\n",
       "    </tr>\n",
       "    <tr>\n",
       "      <th>45</th>\n",
       "      <td>[{'role': 'system', 'content': 'You have to de...</td>\n",
       "      <td>False</td>\n",
       "      <td>&lt;input&gt;&lt;message&gt;&lt;source&gt;system&lt;/source&gt;&lt;conten...</td>\n",
       "      <td>0.0</td>\n",
       "      <td>False</td>\n",
       "      <td>False</td>\n",
       "      <td>0</td>\n",
       "    </tr>\n",
       "    <tr>\n",
       "      <th>44</th>\n",
       "      <td>[{'role': 'system', 'content': 'You have to de...</td>\n",
       "      <td>True</td>\n",
       "      <td>&lt;input&gt;&lt;message&gt;&lt;source&gt;system&lt;/source&gt;&lt;conten...</td>\n",
       "      <td>1.0</td>\n",
       "      <td>False</td>\n",
       "      <td>False</td>\n",
       "      <td>0</td>\n",
       "    </tr>\n",
       "  </tbody>\n",
       "</table>\n",
       "</div>"
      ],
      "text/plain": [
       "                                                input  ideal  \\\n",
       "84  [{'role': 'system', 'content': 'You have to de...  False   \n",
       "53  [{'role': 'system', 'content': 'You have to de...  False   \n",
       "71  [{'role': 'system', 'content': 'You have to de...   True   \n",
       "45  [{'role': 'system', 'content': 'You have to de...  False   \n",
       "44  [{'role': 'system', 'content': 'You have to de...   True   \n",
       "\n",
       "                                      formatted_input  ground_truth   base  \\\n",
       "84  <input><message><source>system</source><conten...           0.0  False   \n",
       "53  <input><message><source>system</source><conten...           0.0  False   \n",
       "71  <input><message><source>system</source><conten...           1.0  False   \n",
       "45  <input><message><source>system</source><conten...           0.0  False   \n",
       "44  <input><message><source>system</source><conten...           1.0  False   \n",
       "\n",
       "   base_answer  base_pred  \n",
       "84       False          0  \n",
       "53       False          0  \n",
       "71       False          0  \n",
       "45       False          0  \n",
       "44       False          0  "
      ]
     },
     "execution_count": 52,
     "metadata": {},
     "output_type": "execute_result"
    }
   ],
   "source": [
    "df['base'] = df.apply(lambda x: no_prompt_complete(x['input'], gpt4_params), axis=1)\n",
    "df['base_answer'] = df.apply(lambda x: extract(x['base']), axis=1)\n",
    "df['base_pred'] = df.base_answer.map(target_numbers)\n",
    "df.head()"
   ]
  },
  {
   "cell_type": "code",
   "execution_count": 53,
   "metadata": {},
   "outputs": [
    {
     "name": "stdout",
     "output_type": "stream",
     "text": [
      "              precision    recall  f1-score   support\n",
      "\n",
      "       False       0.46      0.85      0.60        41\n",
      "        True       0.75      0.31      0.43        59\n",
      "   no answer       1.00      1.00      1.00         0\n",
      "\n",
      "   micro avg       0.53      0.53      0.53       100\n",
      "   macro avg       0.74      0.72      0.68       100\n",
      "weighted avg       0.63      0.53      0.50       100\n",
      "\n"
     ]
    }
   ],
   "source": [
    "from sklearn.metrics import classification_report\n",
    "y_true = df['ground_truth']\n",
    "y_pred = df['base_pred']\n",
    "report = classification_report(y_true, y_pred,target_names=target_names.values(), labels=list(target_names.keys()), zero_division=1)\n",
    "print(report)"
   ]
  },
  {
   "cell_type": "code",
   "execution_count": 54,
   "metadata": {},
   "outputs": [
    {
     "data": {
      "text/plain": [
       "<sklearn.metrics._plot.confusion_matrix.ConfusionMatrixDisplay at 0x2507c9967f0>"
      ]
     },
     "execution_count": 54,
     "metadata": {},
     "output_type": "execute_result"
    },
    {
     "data": {
      "image/png": "[encoded data removed]",
      "text/plain": [
       "<Figure size 640x480 with 2 Axes>"
      ]
     },
     "metadata": {},
     "output_type": "display_data"
    }
   ],
   "source": [
    "from sklearn.metrics import confusion_matrix, ConfusionMatrixDisplay\n",
    "matrix = confusion_matrix(y_true, y_pred, labels=list(target_names.keys()))\n",
    "disp = ConfusionMatrixDisplay(confusion_matrix=matrix, display_labels=target_names.values())\n",
    "disp.plot()"
   ]
  },
  {
   "attachments": {},
   "cell_type": "markdown",
   "metadata": {},
   "source": [
    "Overall performance increased by an almost negligible amount. There are no more non-classifications! Also, it does not demonstrate any unauthorized chaining of thought, which likely hindered performance. However, this is more aligned with the requested output type.\n",
    "\n",
    "There was a trade-off, though. In exchange for improved false recall, we received lower true recall.\n"
   ]
  },
  {
   "attachments": {},
   "cell_type": "markdown",
   "metadata": {},
   "source": [
    "## ChatXML with using GPT-3.5 and one example. "
   ]
  },
  {
   "cell_type": "code",
   "execution_count": 70,
   "metadata": {},
   "outputs": [],
   "source": [
    "from expert import LanguageExpert\n",
    "single_example_prompt = {\n",
    "    'name': 'eval_executor', \n",
    "    'system_message': \"I am an expert evaluator. I will take your input and output a response in the requested format.\", \n",
    "    'description': 'Takes eval messages as input and outputs a response in the requested format.', \n",
    "    'example_input': '''<input><message><source>system</source><content>You have to determine if a given block of code will run in forever in an infinite loop, or if it will stop. Only answer with True if it will run forever, and only with False if it stops</content></message><message><source>user</source><content>#include <stdio.h> void main() {  int i = 10; for( ; ;) { printf(\"%d\\n\",i); } }</content></message></input>''', \n",
    "    'example_output': \"<output><message><source>assistant</source><content>False</content></message></output>\",\n",
    "    }\n",
    "turbo_params = {'model_name': 'gpt-3.5-turbo', 'temperature': 0.0, 'frequency_penalty': 1.0, 'presence_penalty': 0.5, 'n': 1, 'max_tokens': 64}\n",
    "expert = LanguageExpert(**single_example_prompt, model_params=turbo_params)"
   ]
  },
  {
   "cell_type": "code",
   "execution_count": 71,
   "metadata": {},
   "outputs": [
    {
     "data": {
      "text/html": [
       "<div>\n",
       "<style scoped>\n",
       "    .dataframe tbody tr th:only-of-type {\n",
       "        vertical-align: middle;\n",
       "    }\n",
       "\n",
       "    .dataframe tbody tr th {\n",
       "        vertical-align: top;\n",
       "    }\n",
       "\n",
       "    .dataframe thead th {\n",
       "        text-align: right;\n",
       "    }\n",
       "</style>\n",
       "<table border=\"1\" class=\"dataframe\">\n",
       "  <thead>\n",
       "    <tr style=\"text-align: right;\">\n",
       "      <th></th>\n",
       "      <th>input</th>\n",
       "      <th>ideal</th>\n",
       "      <th>formatted_input</th>\n",
       "      <th>ground_truth</th>\n",
       "      <th>base</th>\n",
       "      <th>base_answer</th>\n",
       "      <th>base_pred</th>\n",
       "    </tr>\n",
       "  </thead>\n",
       "  <tbody>\n",
       "    <tr>\n",
       "      <th>0</th>\n",
       "      <td>[{'role': 'system', 'content': 'You have to de...</td>\n",
       "      <td>False</td>\n",
       "      <td>&lt;input&gt;&lt;message&gt;&lt;source&gt;system&lt;/source&gt;&lt;conten...</td>\n",
       "      <td>0.0</td>\n",
       "      <td>&lt;output&gt;&lt;message&gt;&lt;source&gt;assistant&lt;/source&gt;&lt;co...</td>\n",
       "      <td>False</td>\n",
       "      <td>0</td>\n",
       "    </tr>\n",
       "    <tr>\n",
       "      <th>1</th>\n",
       "      <td>[{'role': 'system', 'content': 'You have to de...</td>\n",
       "      <td>True</td>\n",
       "      <td>&lt;input&gt;&lt;message&gt;&lt;source&gt;system&lt;/source&gt;&lt;conten...</td>\n",
       "      <td>1.0</td>\n",
       "      <td>&lt;output&gt;&lt;message&gt;&lt;source&gt;assistant&lt;/source&gt;&lt;co...</td>\n",
       "      <td>True</td>\n",
       "      <td>1</td>\n",
       "    </tr>\n",
       "    <tr>\n",
       "      <th>2</th>\n",
       "      <td>[{'role': 'system', 'content': 'You have to de...</td>\n",
       "      <td>True</td>\n",
       "      <td>&lt;input&gt;&lt;message&gt;&lt;source&gt;system&lt;/source&gt;&lt;conten...</td>\n",
       "      <td>1.0</td>\n",
       "      <td>&lt;output&gt;&lt;message&gt;&lt;source&gt;assistant&lt;/source&gt;&lt;co...</td>\n",
       "      <td>True</td>\n",
       "      <td>1</td>\n",
       "    </tr>\n",
       "    <tr>\n",
       "      <th>3</th>\n",
       "      <td>[{'role': 'system', 'content': 'You have to de...</td>\n",
       "      <td>True</td>\n",
       "      <td>&lt;input&gt;&lt;message&gt;&lt;source&gt;system&lt;/source&gt;&lt;conten...</td>\n",
       "      <td>1.0</td>\n",
       "      <td>The given code is an example of an infinite lo...</td>\n",
       "      <td>no answer</td>\n",
       "      <td>3</td>\n",
       "    </tr>\n",
       "    <tr>\n",
       "      <th>4</th>\n",
       "      <td>[{'role': 'system', 'content': 'You have to de...</td>\n",
       "      <td>True</td>\n",
       "      <td>&lt;input&gt;&lt;message&gt;&lt;source&gt;system&lt;/source&gt;&lt;conten...</td>\n",
       "      <td>1.0</td>\n",
       "      <td>&lt;output&gt;&lt;message&gt;&lt;source&gt;assistant&lt;/source&gt;&lt;co...</td>\n",
       "      <td>True</td>\n",
       "      <td>1</td>\n",
       "    </tr>\n",
       "  </tbody>\n",
       "</table>\n",
       "</div>"
      ],
      "text/plain": [
       "                                               input  ideal  \\\n",
       "0  [{'role': 'system', 'content': 'You have to de...  False   \n",
       "1  [{'role': 'system', 'content': 'You have to de...   True   \n",
       "2  [{'role': 'system', 'content': 'You have to de...   True   \n",
       "3  [{'role': 'system', 'content': 'You have to de...   True   \n",
       "4  [{'role': 'system', 'content': 'You have to de...   True   \n",
       "\n",
       "                                     formatted_input  ground_truth  \\\n",
       "0  <input><message><source>system</source><conten...           0.0   \n",
       "1  <input><message><source>system</source><conten...           1.0   \n",
       "2  <input><message><source>system</source><conten...           1.0   \n",
       "3  <input><message><source>system</source><conten...           1.0   \n",
       "4  <input><message><source>system</source><conten...           1.0   \n",
       "\n",
       "                                                base base_answer  base_pred  \n",
       "0  <output><message><source>assistant</source><co...       False          0  \n",
       "1  <output><message><source>assistant</source><co...        True          1  \n",
       "2  <output><message><source>assistant</source><co...        True          1  \n",
       "3  The given code is an example of an infinite lo...   no answer          3  \n",
       "4  <output><message><source>assistant</source><co...        True          1  "
      ]
     },
     "execution_count": 71,
     "metadata": {},
     "output_type": "execute_result"
    }
   ],
   "source": [
    "df['base'] = df.apply(lambda x: expert(x['formatted_input']), axis=1)\n",
    "df['base_answer'] = df.apply(lambda x: extract(x['base']), axis=1)\n",
    "df['base_pred'] = df.base_answer.map(target_numbers)\n",
    "df.head()"
   ]
  },
  {
   "cell_type": "code",
   "execution_count": 83,
   "metadata": {},
   "outputs": [
    {
     "name": "stdout",
     "output_type": "stream",
     "text": [
      "              precision    recall  f1-score   support\n",
      "\n",
      "       False       0.49      0.56      0.52        41\n",
      "        True       0.75      0.46      0.57        59\n",
      "   no answer       0.00      1.00      0.00         0\n",
      "\n",
      "    accuracy                           0.50       100\n",
      "   macro avg       0.41      0.67      0.36       100\n",
      "weighted avg       0.64      0.50      0.55       100\n",
      "\n"
     ]
    }
   ],
   "source": [
    "from sklearn.metrics import classification_report\n",
    "y_true = df['ground_truth']\n",
    "y_pred = df['base_pred']\n",
    "report = classification_report(y_true, y_pred,target_names=target_names.values(), labels=list(target_names.keys()), zero_division=1)\n",
    "print(report)"
   ]
  },
  {
   "cell_type": "code",
   "execution_count": 84,
   "metadata": {},
   "outputs": [
    {
     "data": {
      "text/plain": [
       "<sklearn.metrics._plot.confusion_matrix.ConfusionMatrixDisplay at 0x2507c9825b0>"
      ]
     },
     "execution_count": 84,
     "metadata": {},
     "output_type": "execute_result"
    },
    {
     "data": {
      "image/png": "[encoded data removed]",
      "text/plain": [
       "<Figure size 640x480 with 2 Axes>"
      ]
     },
     "metadata": {},
     "output_type": "display_data"
    }
   ],
   "source": [
    "from sklearn.metrics import confusion_matrix, ConfusionMatrixDisplay\n",
    "matrix = confusion_matrix(y_true, y_pred, labels=list(target_names.keys()))\n",
    "disp = ConfusionMatrixDisplay(confusion_matrix=matrix, display_labels=target_names.values())\n",
    "disp.plot()"
   ]
  },
  {
   "cell_type": "code",
   "execution_count": 92,
   "metadata": {},
   "outputs": [
    {
     "data": {
      "text/plain": [
       "'<output><message><source>assistant</source><content>True</content></message></output></output>\\n\\nThe given code runs in an infinite loop since the while loop condition is always true. Inside the loop, a value is calculated and checked against a minimum value. Once this minimum value is exceeded, some output'"
      ]
     },
     "execution_count": 92,
     "metadata": {},
     "output_type": "execute_result"
    }
   ],
   "source": [
    "df.sample(1).base.values[0]"
   ]
  },
  {
   "cell_type": "code",
   "execution_count": 85,
   "metadata": {},
   "outputs": [
    {
     "name": "stdout",
     "output_type": "stream",
     "text": [
      "This block of code will run in an infinite loop, as it's using the `setInterval` function to repeat a piece of code every 2000 milliseconds. The code inside the function is basically selecting all divs with class \"dark:bg-[#444654]\" and then adding two buttons (minimize and maximize\n"
     ]
    }
   ],
   "source": [
    "print(df[df.base_pred==3].sample(1)['base'].values[0])"
   ]
  },
  {
   "attachments": {},
   "cell_type": "markdown",
   "metadata": {},
   "source": [
    "Simply using a structured prompt provides a marginal but rather disappointing improvement out of the box. GPT-3.5 also did not want to output in the requested format. Furthermore, we are still observing unauthorized chaining of thought.\n",
    "\n",
    "Let's try this on GPT-4. Then, let's make an honest attempt at optimizing the prompt."
   ]
  },
  {
   "attachments": {},
   "cell_type": "markdown",
   "metadata": {},
   "source": [
    "## ChatXML with using GPT-4 and one example. "
   ]
  },
  {
   "cell_type": "code",
   "execution_count": 120,
   "metadata": {},
   "outputs": [],
   "source": [
    "from expert import LanguageExpert\n",
    "single_example_prompt = {\n",
    "    'name': 'eval_executor', \n",
    "    'system_message': \"I am an expert evaluator. I will take your input and output a response in the requested format.\", \n",
    "    'description': 'Takes eval messages as input and outputs a response in the requested format.', \n",
    "    'example_input': '''<input><message><source>system</source><content>You have to determine if a given block of code will run in forever in an infinite loop, or if it will stop. Only answer with True if it will run forever, and only with False if it stops</content></message><message><source>user</source><content>#include <stdio.h> void main() {  int i = 10; for( ; ;) { printf(\"%d\\n\",i); } }</content></message></input>''', \n",
    "    'example_output': \"<output><message><source>assistant</source><content>False</content></message></output>\",\n",
    "    }\n",
    "gpt4_params = {'model_name': 'gpt-4', 'temperature': 0.0, 'frequency_penalty': 1.0, 'presence_penalty': 0.5, 'n': 1, 'max_tokens': 64}\n",
    "expert = LanguageExpert(**single_example_prompt, model_params=gpt4_params)"
   ]
  },
  {
   "cell_type": "code",
   "execution_count": 121,
   "metadata": {},
   "outputs": [
    {
     "name": "stderr",
     "output_type": "stream",
     "text": [
      "Retrying langchain.chat_models.openai.ChatOpenAI.completion_with_retry.<locals>._completion_with_retry in 4.0 seconds as it raised Timeout: Request timed out: HTTPSConnectionPool(host='api.openai.com', port=443): Read timed out. (read timeout=60).\n"
     ]
    },
    {
     "data": {
      "text/html": [
       "<div>\n",
       "<style scoped>\n",
       "    .dataframe tbody tr th:only-of-type {\n",
       "        vertical-align: middle;\n",
       "    }\n",
       "\n",
       "    .dataframe tbody tr th {\n",
       "        vertical-align: top;\n",
       "    }\n",
       "\n",
       "    .dataframe thead th {\n",
       "        text-align: right;\n",
       "    }\n",
       "</style>\n",
       "<table border=\"1\" class=\"dataframe\">\n",
       "  <thead>\n",
       "    <tr style=\"text-align: right;\">\n",
       "      <th></th>\n",
       "      <th>input</th>\n",
       "      <th>ideal</th>\n",
       "      <th>formatted_input</th>\n",
       "      <th>ground_truth</th>\n",
       "      <th>base</th>\n",
       "      <th>base_answer</th>\n",
       "      <th>base_pred</th>\n",
       "    </tr>\n",
       "  </thead>\n",
       "  <tbody>\n",
       "    <tr>\n",
       "      <th>0</th>\n",
       "      <td>[{'role': 'system', 'content': 'You have to de...</td>\n",
       "      <td>False</td>\n",
       "      <td>&lt;input&gt;&lt;message&gt;&lt;source&gt;system&lt;/source&gt;&lt;conten...</td>\n",
       "      <td>0.0</td>\n",
       "      <td>&lt;output&gt;&lt;message&gt;&lt;source&gt;assistant&lt;/source&gt;&lt;co...</td>\n",
       "      <td>True</td>\n",
       "      <td>1</td>\n",
       "    </tr>\n",
       "    <tr>\n",
       "      <th>1</th>\n",
       "      <td>[{'role': 'system', 'content': 'You have to de...</td>\n",
       "      <td>True</td>\n",
       "      <td>&lt;input&gt;&lt;message&gt;&lt;source&gt;system&lt;/source&gt;&lt;conten...</td>\n",
       "      <td>1.0</td>\n",
       "      <td>True</td>\n",
       "      <td>True</td>\n",
       "      <td>1</td>\n",
       "    </tr>\n",
       "    <tr>\n",
       "      <th>2</th>\n",
       "      <td>[{'role': 'system', 'content': 'You have to de...</td>\n",
       "      <td>True</td>\n",
       "      <td>&lt;input&gt;&lt;message&gt;&lt;source&gt;system&lt;/source&gt;&lt;conten...</td>\n",
       "      <td>1.0</td>\n",
       "      <td>True</td>\n",
       "      <td>True</td>\n",
       "      <td>1</td>\n",
       "    </tr>\n",
       "    <tr>\n",
       "      <th>3</th>\n",
       "      <td>[{'role': 'system', 'content': 'You have to de...</td>\n",
       "      <td>True</td>\n",
       "      <td>&lt;input&gt;&lt;message&gt;&lt;source&gt;system&lt;/source&gt;&lt;conten...</td>\n",
       "      <td>1.0</td>\n",
       "      <td>&lt;output&gt;&lt;message&gt;&lt;source&gt;assistant&lt;/source&gt;&lt;co...</td>\n",
       "      <td>True</td>\n",
       "      <td>1</td>\n",
       "    </tr>\n",
       "    <tr>\n",
       "      <th>4</th>\n",
       "      <td>[{'role': 'system', 'content': 'You have to de...</td>\n",
       "      <td>True</td>\n",
       "      <td>&lt;input&gt;&lt;message&gt;&lt;source&gt;system&lt;/source&gt;&lt;conten...</td>\n",
       "      <td>1.0</td>\n",
       "      <td>True</td>\n",
       "      <td>True</td>\n",
       "      <td>1</td>\n",
       "    </tr>\n",
       "  </tbody>\n",
       "</table>\n",
       "</div>"
      ],
      "text/plain": [
       "                                               input  ideal  \\\n",
       "0  [{'role': 'system', 'content': 'You have to de...  False   \n",
       "1  [{'role': 'system', 'content': 'You have to de...   True   \n",
       "2  [{'role': 'system', 'content': 'You have to de...   True   \n",
       "3  [{'role': 'system', 'content': 'You have to de...   True   \n",
       "4  [{'role': 'system', 'content': 'You have to de...   True   \n",
       "\n",
       "                                     formatted_input  ground_truth  \\\n",
       "0  <input><message><source>system</source><conten...           0.0   \n",
       "1  <input><message><source>system</source><conten...           1.0   \n",
       "2  <input><message><source>system</source><conten...           1.0   \n",
       "3  <input><message><source>system</source><conten...           1.0   \n",
       "4  <input><message><source>system</source><conten...           1.0   \n",
       "\n",
       "                                                base base_answer  base_pred  \n",
       "0  <output><message><source>assistant</source><co...        True          1  \n",
       "1                                               True        True          1  \n",
       "2                                               True        True          1  \n",
       "3  <output><message><source>assistant</source><co...        True          1  \n",
       "4                                               True        True          1  "
      ]
     },
     "execution_count": 121,
     "metadata": {},
     "output_type": "execute_result"
    }
   ],
   "source": [
    "df['base'] = df.apply(lambda x: expert(x['formatted_input']), axis=1)\n",
    "df['base_answer'] = df.apply(lambda x: extract(x['base']), axis=1)\n",
    "df['base_pred'] = df.base_answer.map(target_numbers)\n",
    "df.head()"
   ]
  },
  {
   "cell_type": "code",
   "execution_count": 122,
   "metadata": {},
   "outputs": [
    {
     "name": "stdout",
     "output_type": "stream",
     "text": [
      "              precision    recall  f1-score   support\n",
      "\n",
      "       False       0.47      0.85      0.60        41\n",
      "        True       0.79      0.32      0.46        59\n",
      "   no answer       0.00      1.00      0.00         0\n",
      "\n",
      "    accuracy                           0.54       100\n",
      "   macro avg       0.42      0.73      0.35       100\n",
      "weighted avg       0.66      0.54      0.52       100\n",
      "\n"
     ]
    }
   ],
   "source": [
    "from sklearn.metrics import classification_report\n",
    "y_true = df['ground_truth']\n",
    "y_pred = df['base_pred']\n",
    "report = classification_report(y_true, y_pred,target_names=target_names.values(), labels=list(target_names.keys()), zero_division=1)\n",
    "print(report)"
   ]
  },
  {
   "cell_type": "code",
   "execution_count": 123,
   "metadata": {},
   "outputs": [
    {
     "data": {
      "text/plain": [
       "<sklearn.metrics._plot.confusion_matrix.ConfusionMatrixDisplay at 0x2507ccd1a60>"
      ]
     },
     "execution_count": 123,
     "metadata": {},
     "output_type": "execute_result"
    },
    {
     "data": {
      "image/png": "[encoded data removed]",
      "text/plain": [
       "<Figure size 640x480 with 2 Axes>"
      ]
     },
     "metadata": {},
     "output_type": "display_data"
    }
   ],
   "source": [
    "from sklearn.metrics import confusion_matrix, ConfusionMatrixDisplay\n",
    "matrix = confusion_matrix(y_true, y_pred, labels=list(target_names.keys()))\n",
    "disp = ConfusionMatrixDisplay(confusion_matrix=matrix, display_labels=target_names.values())\n",
    "disp.plot()"
   ]
  },
  {
   "cell_type": "code",
   "execution_count": 157,
   "metadata": {},
   "outputs": [
    {
     "data": {
      "text/plain": [
       "'<output><message><source>assistant</source><content>False</content></message></output>'"
      ]
     },
     "execution_count": 157,
     "metadata": {},
     "output_type": "execute_result"
    }
   ],
   "source": [
    "df.sample(1).base.values[0]"
   ]
  },
  {
   "cell_type": "code",
   "execution_count": 126,
   "metadata": {},
   "outputs": [
    {
     "name": "stdout",
     "output_type": "stream",
     "text": [
      "It is difficult to determine whether the code will run in an infinite loop or stop without knowing the initial state of the variables and functions being used. The function `fill` relies on external variables and functions such as `cells`, `getFieldId`, `getDistance`, etc., which are not provided in the context. With\n"
     ]
    }
   ],
   "source": [
    "print(df[df.base_pred==3].sample(1)['base'].values[0])"
   ]
  },
  {
   "attachments": {},
   "cell_type": "markdown",
   "metadata": {},
   "source": [
    "Overall, there was a net improvement but the results are still relatively disappointing. The formatting is inconsistent. Let's perform some actual optimizations now."
   ]
  },
  {
   "attachments": {},
   "cell_type": "markdown",
   "metadata": {},
   "source": [
    "## Prompt Engineered ChatXML"
   ]
  },
  {
   "cell_type": "code",
   "execution_count": 174,
   "metadata": {},
   "outputs": [],
   "source": [
    "from expert import LanguageExpert\n",
    "single_example_prompt = {\n",
    "    'name': 'Infinite Loop Detector', \n",
    "    'system_message': \"I am an expert programmer. I will let you know if your program has the potential to go on forever or is gauranteed to stop. Before giving an answer, I will provide a very brief explanation of my reasoning.\", \n",
    "    'description': 'Take a program as input and outputs True if the program includes a possible infite loop and False if it is guaranteed to stop.', \n",
    "    'example_input': '''<input><message><source>system</source><content>You have to determine if a given block of code will run in forever in an infinite loop, or if it will stop. Only answer with True if it will run forever, and only with False if it stops</content></message><message><source>user</source><content>#include <stdio.h> void main() {  int i = 10; for( ; ;) { printf(\"%d\\n\",i); } }</content></message></input>''', \n",
    "    'example_output': \"<output><message><source>assistant</source><reasoning>The program is a bounded for-loop that will iterate 10 times and stop.</reasoning</message><message><source>assistant</source><answer>False</answer></message></output>\",\n",
    "    }\n",
    "gpt4_params = {'model_name': 'gpt-4', 'temperature': 0.0, 'frequency_penalty': 1.0, 'presence_penalty': 0.5, 'n': 1, 'max_tokens': 128}\n",
    "expert = LanguageExpert(**single_example_prompt, model_params=gpt4_params)"
   ]
  },
  {
   "cell_type": "code",
   "execution_count": 175,
   "metadata": {},
   "outputs": [
    {
     "data": {
      "text/html": [
       "<div>\n",
       "<style scoped>\n",
       "    .dataframe tbody tr th:only-of-type {\n",
       "        vertical-align: middle;\n",
       "    }\n",
       "\n",
       "    .dataframe tbody tr th {\n",
       "        vertical-align: top;\n",
       "    }\n",
       "\n",
       "    .dataframe thead th {\n",
       "        text-align: right;\n",
       "    }\n",
       "</style>\n",
       "<table border=\"1\" class=\"dataframe\">\n",
       "  <thead>\n",
       "    <tr style=\"text-align: right;\">\n",
       "      <th></th>\n",
       "      <th>input</th>\n",
       "      <th>ideal</th>\n",
       "      <th>formatted_input</th>\n",
       "      <th>ground_truth</th>\n",
       "      <th>base</th>\n",
       "      <th>base_answer</th>\n",
       "      <th>base_pred</th>\n",
       "    </tr>\n",
       "  </thead>\n",
       "  <tbody>\n",
       "    <tr>\n",
       "      <th>0</th>\n",
       "      <td>[{'role': 'system', 'content': 'You have to de...</td>\n",
       "      <td>False</td>\n",
       "      <td>&lt;input&gt;&lt;message&gt;&lt;source&gt;system&lt;/source&gt;&lt;conten...</td>\n",
       "      <td>0.0</td>\n",
       "      <td>&lt;message&gt;&lt;source&gt;assistant&lt;/source&gt;&lt;reasoning&gt;...</td>\n",
       "      <td>True</td>\n",
       "      <td>1</td>\n",
       "    </tr>\n",
       "    <tr>\n",
       "      <th>1</th>\n",
       "      <td>[{'role': 'system', 'content': 'You have to de...</td>\n",
       "      <td>True</td>\n",
       "      <td>&lt;input&gt;&lt;message&gt;&lt;source&gt;system&lt;/source&gt;&lt;conten...</td>\n",
       "      <td>1.0</td>\n",
       "      <td>&lt;message&gt;&lt;source&gt;assistant&lt;/source&gt;&lt;reasoning&gt;...</td>\n",
       "      <td>True</td>\n",
       "      <td>1</td>\n",
       "    </tr>\n",
       "    <tr>\n",
       "      <th>2</th>\n",
       "      <td>[{'role': 'system', 'content': 'You have to de...</td>\n",
       "      <td>True</td>\n",
       "      <td>&lt;input&gt;&lt;message&gt;&lt;source&gt;system&lt;/source&gt;&lt;conten...</td>\n",
       "      <td>1.0</td>\n",
       "      <td>&lt;message&gt;&lt;source&gt;assistant&lt;/source&gt;&lt;reasoning&gt;...</td>\n",
       "      <td>True</td>\n",
       "      <td>1</td>\n",
       "    </tr>\n",
       "    <tr>\n",
       "      <th>3</th>\n",
       "      <td>[{'role': 'system', 'content': 'You have to de...</td>\n",
       "      <td>True</td>\n",
       "      <td>&lt;input&gt;&lt;message&gt;&lt;source&gt;system&lt;/source&gt;&lt;conten...</td>\n",
       "      <td>1.0</td>\n",
       "      <td>&lt;message&gt;&lt;source&gt;assistant&lt;/source&gt;&lt;reasoning&gt;...</td>\n",
       "      <td>True</td>\n",
       "      <td>1</td>\n",
       "    </tr>\n",
       "    <tr>\n",
       "      <th>4</th>\n",
       "      <td>[{'role': 'system', 'content': 'You have to de...</td>\n",
       "      <td>True</td>\n",
       "      <td>&lt;input&gt;&lt;message&gt;&lt;source&gt;system&lt;/source&gt;&lt;conten...</td>\n",
       "      <td>1.0</td>\n",
       "      <td>&lt;message&gt;&lt;source&gt;assistant&lt;/source&gt;&lt;reasoning&gt;...</td>\n",
       "      <td>True</td>\n",
       "      <td>1</td>\n",
       "    </tr>\n",
       "  </tbody>\n",
       "</table>\n",
       "</div>"
      ],
      "text/plain": [
       "                                               input  ideal  \\\n",
       "0  [{'role': 'system', 'content': 'You have to de...  False   \n",
       "1  [{'role': 'system', 'content': 'You have to de...   True   \n",
       "2  [{'role': 'system', 'content': 'You have to de...   True   \n",
       "3  [{'role': 'system', 'content': 'You have to de...   True   \n",
       "4  [{'role': 'system', 'content': 'You have to de...   True   \n",
       "\n",
       "                                     formatted_input  ground_truth  \\\n",
       "0  <input><message><source>system</source><conten...           0.0   \n",
       "1  <input><message><source>system</source><conten...           1.0   \n",
       "2  <input><message><source>system</source><conten...           1.0   \n",
       "3  <input><message><source>system</source><conten...           1.0   \n",
       "4  <input><message><source>system</source><conten...           1.0   \n",
       "\n",
       "                                                base base_answer  base_pred  \n",
       "0  <message><source>assistant</source><reasoning>...        True          1  \n",
       "1  <message><source>assistant</source><reasoning>...        True          1  \n",
       "2  <message><source>assistant</source><reasoning>...        True          1  \n",
       "3  <message><source>assistant</source><reasoning>...        True          1  \n",
       "4  <message><source>assistant</source><reasoning>...        True          1  "
      ]
     },
     "execution_count": 175,
     "metadata": {},
     "output_type": "execute_result"
    }
   ],
   "source": [
    "df['base'] = df.apply(lambda x: expert(x['formatted_input']), axis=1)\n",
    "df['base_answer'] = df.apply(lambda x: extract(x['base']), axis=1)\n",
    "df['base_pred'] = df.base_answer.map(target_numbers)\n",
    "df.head()"
   ]
  },
  {
   "cell_type": "code",
   "execution_count": 176,
   "metadata": {},
   "outputs": [
    {
     "name": "stdout",
     "output_type": "stream",
     "text": [
      "              precision    recall  f1-score   support\n",
      "\n",
      "       False       0.49      0.63      0.55        41\n",
      "        True       0.67      0.51      0.58        59\n",
      "   no answer       0.00      1.00      0.00         0\n",
      "\n",
      "    accuracy                           0.56       100\n",
      "   macro avg       0.39      0.71      0.38       100\n",
      "weighted avg       0.59      0.56      0.57       100\n",
      "\n"
     ]
    }
   ],
   "source": [
    "from sklearn.metrics import classification_report\n",
    "y_true = df['ground_truth']\n",
    "y_pred = df['base_pred']\n",
    "report = classification_report(y_true, y_pred,target_names=target_names.values(), labels=list(target_names.keys()), zero_division=1)\n",
    "print(report)"
   ]
  },
  {
   "cell_type": "code",
   "execution_count": 177,
   "metadata": {},
   "outputs": [
    {
     "data": {
      "text/plain": [
       "<sklearn.metrics._plot.confusion_matrix.ConfusionMatrixDisplay at 0x2507cd80df0>"
      ]
     },
     "execution_count": 177,
     "metadata": {},
     "output_type": "execute_result"
    },
    {
     "data": {
      "image/png": "[encoded data removed]",
      "text/plain": [
       "<Figure size 640x480 with 2 Axes>"
      ]
     },
     "metadata": {},
     "output_type": "display_data"
    }
   ],
   "source": [
    "from sklearn.metrics import confusion_matrix, ConfusionMatrixDisplay\n",
    "matrix = confusion_matrix(y_true, y_pred, labels=list(target_names.keys()))\n",
    "disp = ConfusionMatrixDisplay(confusion_matrix=matrix, display_labels=target_names.values())\n",
    "disp.plot()"
   ]
  },
  {
   "cell_type": "code",
   "execution_count": 178,
   "metadata": {},
   "outputs": [
    {
     "data": {
      "text/html": [
       "<div>\n",
       "<style scoped>\n",
       "    .dataframe tbody tr th:only-of-type {\n",
       "        vertical-align: middle;\n",
       "    }\n",
       "\n",
       "    .dataframe tbody tr th {\n",
       "        vertical-align: top;\n",
       "    }\n",
       "\n",
       "    .dataframe thead th {\n",
       "        text-align: right;\n",
       "    }\n",
       "</style>\n",
       "<table border=\"1\" class=\"dataframe\">\n",
       "  <thead>\n",
       "    <tr style=\"text-align: right;\">\n",
       "      <th></th>\n",
       "      <th>input</th>\n",
       "      <th>ideal</th>\n",
       "      <th>formatted_input</th>\n",
       "      <th>ground_truth</th>\n",
       "      <th>base</th>\n",
       "      <th>base_answer</th>\n",
       "      <th>base_pred</th>\n",
       "    </tr>\n",
       "  </thead>\n",
       "  <tbody>\n",
       "    <tr>\n",
       "      <th>36</th>\n",
       "      <td>[{'role': 'system', 'content': 'You have to de...</td>\n",
       "      <td>True</td>\n",
       "      <td>&lt;input&gt;&lt;message&gt;&lt;source&gt;system&lt;/source&gt;&lt;conten...</td>\n",
       "      <td>1.0</td>\n",
       "      <td>&lt;message&gt;&lt;source&gt;assistant&lt;/source&gt;&lt;reasoning&gt;...</td>\n",
       "      <td>False</td>\n",
       "      <td>0</td>\n",
       "    </tr>\n",
       "  </tbody>\n",
       "</table>\n",
       "</div>"
      ],
      "text/plain": [
       "                                                input ideal  \\\n",
       "36  [{'role': 'system', 'content': 'You have to de...  True   \n",
       "\n",
       "                                      formatted_input  ground_truth  \\\n",
       "36  <input><message><source>system</source><conten...           1.0   \n",
       "\n",
       "                                                 base base_answer  base_pred  \n",
       "36  <message><source>assistant</source><reasoning>...       False          0  "
      ]
     },
     "execution_count": 178,
     "metadata": {},
     "output_type": "execute_result"
    }
   ],
   "source": [
    "df.sample(1)"
   ]
  },
  {
   "attachments": {},
   "cell_type": "markdown",
   "metadata": {},
   "source": [
    "We now have our first meaningful increase in performance. Although it came at the cost of significantly more tokens and processing time. The main advantage appears to be the ability to demonstrate chaining of thought.\n",
    "\n",
    "While the performance gains are promising, the additional computational resources required are substantial. The model seems to benefit from being able to coherently connect its responses, but striking a balance between performance, coherence, and efficiency will be important going forward. Additional gains may still be possible through continued prompt optimization and tuning. However, the law of diminishing returns is likely to set in soon, so determining the optimal trade-offs will be key."
   ]
  },
  {
   "attachments": {},
   "cell_type": "markdown",
   "metadata": {},
   "source": [
    "## Claude-v1.3 comparision"
   ]
  },
  {
   "cell_type": "code",
   "execution_count": 179,
   "metadata": {},
   "outputs": [],
   "source": [
    "from expert import LanguageExpert\n",
    "single_example_prompt = {\n",
    "    'name': 'Infinite Loop Detector', \n",
    "    'system_message': \"I am an expert programmer. I will let you know if your program has the potential to go on forever or is gauranteed to stop. Before giving an answer, I will provide a very brief explanation of my reasoning.\", \n",
    "    'description': 'Take a program as input and outputs True if the program includes a possible infite loop and False if it is guaranteed to stop.', \n",
    "    'example_input': '''<input><message><source>system</source><content>You have to determine if a given block of code will run in forever in an infinite loop, or if it will stop. Only answer with True if it will run forever, and only with False if it stops</content></message><message><source>user</source><content>#include <stdio.h> void main() {  int i = 10; for( ; ;) { printf(\"%d\\n\",i); } }</content></message></input>''', \n",
    "    'example_output': \"<output><message><source>assistant</source><reasoning>The program is a bounded for-loop that will iterate 10 times and stop.</reasoning</message><message><source>assistant</source><answer>False</answer></message></output>\",\n",
    "    }\n",
    "claude_params = {'model_name': 'claude-v1.3', 'temperature': 0.0, 'frequency_penalty': 1.0, 'presence_penalty': 0.5, 'n': 1, 'max_tokens': 256}\n",
    "expert = LanguageExpert(**single_example_prompt, model_params=claude_params)"
   ]
  },
  {
   "cell_type": "code",
   "execution_count": 180,
   "metadata": {},
   "outputs": [
    {
     "data": {
      "text/html": [
       "<div>\n",
       "<style scoped>\n",
       "    .dataframe tbody tr th:only-of-type {\n",
       "        vertical-align: middle;\n",
       "    }\n",
       "\n",
       "    .dataframe tbody tr th {\n",
       "        vertical-align: top;\n",
       "    }\n",
       "\n",
       "    .dataframe thead th {\n",
       "        text-align: right;\n",
       "    }\n",
       "</style>\n",
       "<table border=\"1\" class=\"dataframe\">\n",
       "  <thead>\n",
       "    <tr style=\"text-align: right;\">\n",
       "      <th></th>\n",
       "      <th>input</th>\n",
       "      <th>ideal</th>\n",
       "      <th>formatted_input</th>\n",
       "      <th>ground_truth</th>\n",
       "      <th>base</th>\n",
       "      <th>base_answer</th>\n",
       "      <th>base_pred</th>\n",
       "    </tr>\n",
       "  </thead>\n",
       "  <tbody>\n",
       "    <tr>\n",
       "      <th>0</th>\n",
       "      <td>[{'role': 'system', 'content': 'You have to de...</td>\n",
       "      <td>False</td>\n",
       "      <td>&lt;input&gt;&lt;message&gt;&lt;source&gt;system&lt;/source&gt;&lt;conten...</td>\n",
       "      <td>0.0</td>\n",
       "      <td>&lt;output&gt;&lt;message&gt;&lt;source&gt;assistant&lt;/source&gt;&lt;re...</td>\n",
       "      <td>True</td>\n",
       "      <td>1</td>\n",
       "    </tr>\n",
       "    <tr>\n",
       "      <th>1</th>\n",
       "      <td>[{'role': 'system', 'content': 'You have to de...</td>\n",
       "      <td>True</td>\n",
       "      <td>&lt;input&gt;&lt;message&gt;&lt;source&gt;system&lt;/source&gt;&lt;conten...</td>\n",
       "      <td>1.0</td>\n",
       "      <td>\\n&lt;output&gt;&lt;message&gt;&lt;source&gt;assistant&lt;/source&gt;&lt;...</td>\n",
       "      <td>False</td>\n",
       "      <td>0</td>\n",
       "    </tr>\n",
       "    <tr>\n",
       "      <th>2</th>\n",
       "      <td>[{'role': 'system', 'content': 'You have to de...</td>\n",
       "      <td>True</td>\n",
       "      <td>&lt;input&gt;&lt;message&gt;&lt;source&gt;system&lt;/source&gt;&lt;conten...</td>\n",
       "      <td>1.0</td>\n",
       "      <td>\\n&lt;output&gt;&lt;message&gt;&lt;source&gt;assistant&lt;/source&gt;&lt;...</td>\n",
       "      <td>True</td>\n",
       "      <td>1</td>\n",
       "    </tr>\n",
       "    <tr>\n",
       "      <th>3</th>\n",
       "      <td>[{'role': 'system', 'content': 'You have to de...</td>\n",
       "      <td>True</td>\n",
       "      <td>&lt;input&gt;&lt;message&gt;&lt;source&gt;system&lt;/source&gt;&lt;conten...</td>\n",
       "      <td>1.0</td>\n",
       "      <td>&lt;output&gt; \\n&lt;message&gt;\\n&lt;source&gt;assistant&lt;/sourc...</td>\n",
       "      <td>True</td>\n",
       "      <td>1</td>\n",
       "    </tr>\n",
       "    <tr>\n",
       "      <th>4</th>\n",
       "      <td>[{'role': 'system', 'content': 'You have to de...</td>\n",
       "      <td>True</td>\n",
       "      <td>&lt;input&gt;&lt;message&gt;&lt;source&gt;system&lt;/source&gt;&lt;conten...</td>\n",
       "      <td>1.0</td>\n",
       "      <td>\\n&lt;output&gt;  &lt;message&gt;    &lt;source&gt;assistant&lt;/so...</td>\n",
       "      <td>False</td>\n",
       "      <td>0</td>\n",
       "    </tr>\n",
       "  </tbody>\n",
       "</table>\n",
       "</div>"
      ],
      "text/plain": [
       "                                               input  ideal  \\\n",
       "0  [{'role': 'system', 'content': 'You have to de...  False   \n",
       "1  [{'role': 'system', 'content': 'You have to de...   True   \n",
       "2  [{'role': 'system', 'content': 'You have to de...   True   \n",
       "3  [{'role': 'system', 'content': 'You have to de...   True   \n",
       "4  [{'role': 'system', 'content': 'You have to de...   True   \n",
       "\n",
       "                                     formatted_input  ground_truth  \\\n",
       "0  <input><message><source>system</source><conten...           0.0   \n",
       "1  <input><message><source>system</source><conten...           1.0   \n",
       "2  <input><message><source>system</source><conten...           1.0   \n",
       "3  <input><message><source>system</source><conten...           1.0   \n",
       "4  <input><message><source>system</source><conten...           1.0   \n",
       "\n",
       "                                                base base_answer  base_pred  \n",
       "0  <output><message><source>assistant</source><re...        True          1  \n",
       "1  \\n<output><message><source>assistant</source><...       False          0  \n",
       "2  \\n<output><message><source>assistant</source><...        True          1  \n",
       "3  <output> \\n<message>\\n<source>assistant</sourc...        True          1  \n",
       "4  \\n<output>  <message>    <source>assistant</so...       False          0  "
      ]
     },
     "execution_count": 180,
     "metadata": {},
     "output_type": "execute_result"
    }
   ],
   "source": [
    "df['base'] = df.apply(lambda x: expert(x['formatted_input']), axis=1)\n",
    "df['base_answer'] = df.apply(lambda x: extract(x['base']), axis=1)\n",
    "df['base_pred'] = df.base_answer.map(target_numbers)\n",
    "df.head()"
   ]
  },
  {
   "cell_type": "code",
   "execution_count": 181,
   "metadata": {},
   "outputs": [
    {
     "name": "stdout",
     "output_type": "stream",
     "text": [
      "              precision    recall  f1-score   support\n",
      "\n",
      "       False       0.54      0.66      0.59        41\n",
      "        True       0.72      0.61      0.66        59\n",
      "   no answer       1.00      1.00      1.00         0\n",
      "\n",
      "   micro avg       0.63      0.63      0.63       100\n",
      "   macro avg       0.75      0.76      0.75       100\n",
      "weighted avg       0.65      0.63      0.63       100\n",
      "\n"
     ]
    }
   ],
   "source": [
    "from sklearn.metrics import classification_report\n",
    "y_true = df['ground_truth']\n",
    "y_pred = df['base_pred']\n",
    "report = classification_report(y_true, y_pred,target_names=target_names.values(), labels=list(target_names.keys()), zero_division=1)\n",
    "print(report)"
   ]
  },
  {
   "cell_type": "code",
   "execution_count": 182,
   "metadata": {},
   "outputs": [
    {
     "data": {
      "text/plain": [
       "<sklearn.metrics._plot.confusion_matrix.ConfusionMatrixDisplay at 0x2507e03ad30>"
      ]
     },
     "execution_count": 182,
     "metadata": {},
     "output_type": "execute_result"
    },
    {
     "data": {
      "image/png": "[encoded data removed]",
      "text/plain": [
       "<Figure size 640x480 with 2 Axes>"
      ]
     },
     "metadata": {},
     "output_type": "display_data"
    }
   ],
   "source": [
    "from sklearn.metrics import confusion_matrix, ConfusionMatrixDisplay\n",
    "matrix = confusion_matrix(y_true, y_pred, labels=list(target_names.keys()))\n",
    "disp = ConfusionMatrixDisplay(confusion_matrix=matrix, display_labels=target_names.values())\n",
    "disp.plot()"
   ]
  },
  {
   "attachments": {},
   "cell_type": "markdown",
   "metadata": {},
   "source": [
    "Anthropic emerges from obscurity and beats GPT-4 and GPT-3.5 with inference times less than OpenAI's models. They appear to be a dark horse due to how little they have shared regarding their results.\n",
    "\n",
    "Anthropic's sudden success and secrecy is surprising and intriguing. "
   ]
  }
 ],
 "metadata": {
  "kernelspec": {
   "display_name": "base",
   "language": "python",
   "name": "python3"
  },
  "language_info": {
   "codemirror_mode": {
    "name": "ipython",
    "version": 3
   },
   "file_extension": ".py",
   "mimetype": "text/x-python",
   "name": "python",
   "nbconvert_exporter": "python",
   "pygments_lexer": "ipython3",
   "version": "3.9.13"
  },
  "orig_nbformat": 4
 },
 "nbformat": 4,
 "nbformat_minor": 2
}
