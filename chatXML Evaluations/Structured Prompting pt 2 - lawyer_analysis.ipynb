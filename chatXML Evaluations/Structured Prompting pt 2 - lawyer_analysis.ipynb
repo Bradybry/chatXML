{
 "cells": [
  {
   "attachments": {},
   "cell_type": "markdown",
   "metadata": {},
   "source": [
    "# **GPT-3.5 vs GPT-4 vs ChatXML vs ChatXML w/ CoT: A Quantitative Analysis of Prompt Engineering (Part 2)**  \n",
    "\n",
    "This post continues the analysis of *structured prompting methods* on model performance. The dataset used here is the *aba_MRPC_true_false eval* from OpenAI which contains 110 True/False questions on legal ethics from the ABA Model Rules of Professional Conduct. This challenging dataset shows notable gains when using prompt engineering techniques.\n",
    "\n",
    "The results are summarized below: \n",
    "\n",
    "| Model        | Precision  | Recall     | F1-score | Accuracy | Latency (min) |    \n",
    "|:--|:--|:--|:--|:--|:--|  \n",
    "| **GPT-4 Raw**     | 0.82      | 0.82    | 0.82 | 0.82       | 12:48|   \n",
    "|**GPT-4 ChatXML**     |0.83 |0.82 |0.82 |0.82 | 2:57  \n",
    "|**GPT-4 ChatXML <br/> w/ CoT**|0.88|0.87|0.87|0.87|31:15\n",
    "|**Claude ChatXML<br/> w/ CoT** |0.77|0.77|0.77|0.77|4:29\n",
    "|**Claude ChatXML<br/> no CoT** |0.73|0.70|0.70|0.70|2:17\n",
    "\n",
    "The results show that *structured prompting* continues to provide benefits on this dataset. **GPT-4 with ChatXML and Chain of Thought (CoT)** achieves the highest scores with an F1-score of 0.87 and accuracy of 87%. However, the additional latency of over 30 minutes for CoT may not warrant the performance gains for some use cases. The Claude model sees more modest gains around 7% with CoT prompting.  \n",
    "\n",
    "The Claude model provides a good balance between latency and performance on this dataset. With ChatXML prompting and Chain of Thought (CoT), Claude achieves an F1-score of 0.77 and accuracy of 77% with only 4 minutes of latency. Without CoT, latency drops to just over 2 minutes with a still reasonable F1-score of 0.70 and accuracy of 70%.\n",
    "\n",
    "For use cases where latency and computing costs are a concern, Claude's performance with prompt engineering may be sufficient while providing much faster response times than GPT-4. The more advanced model does provide the highest accuracy at 87% but at over 30 minutes of latency and potentially higher costs. Claude demonstrates how newer, balanced models optimized for production can benefit from structured prompting to achieve good performance at lower latency.\n",
    "\n",
    "Overall, this analysis provides more evidence that *structured prompting* and *prompt engineering* can provide quantifiable gains in model performance, especially for challenging datasets. The costs in terms of latency and compute do need to be weighed for different applications. More analyses on additional datasets and models would help provide a more comprehensive view of the pros and cons of these methods.\n",
    "\n",
    "\n",
    "### Warning!\n",
    "This notebook cost a ton in API calls so be ready and be careful if you want to replicate my results."
   ]
  },
  {
   "cell_type": "code",
   "execution_count": 1,
   "metadata": {},
   "outputs": [],
   "source": [
    "import json\n",
    "import pandas as pd\n",
    "from tqdm import tqdm\n",
    "tqdm.pandas()\n",
    "def xmlify(messages):\n",
    "    xml = ''\n",
    "    for message in messages:\n",
    "        xml += f'<message><source>{message[\"role\"]}</source><content>{message[\"content\"]}</content></message>'\n",
    "\n",
    "    xml = f'<input>{xml}</input>'\n",
    "    return xml\n",
    "\n",
    "from langchain.schema import HumanMessage, SystemMessage, AIMessage\n",
    "from langchain.chat_models import ChatOpenAI"
   ]
  },
  {
   "cell_type": "code",
   "execution_count": 2,
   "metadata": {},
   "outputs": [],
   "source": [
    "def no_prompt_complete(messages, model_params):\n",
    "    chatbot = ChatOpenAI(**model_params)\n",
    "    request_message = []\n",
    "    for message in messages:\n",
    "        if message['role'] == 'user':\n",
    "            formated_message = HumanMessage(content=message['content'])\n",
    "        elif message['role'] == 'system':\n",
    "            formated_message = SystemMessage(content= message['content'])\n",
    "        elif message['role'] == 'assistant':\n",
    "            formated_message = AIMessage(content= message['content'])\n",
    "        request_message.append(formated_message)\n",
    "    response = chatbot(request_message)\n",
    "    return response.content\n"
   ]
  },
  {
   "cell_type": "code",
   "execution_count": 3,
   "metadata": {},
   "outputs": [
    {
     "data": {
      "text/html": [
       "<div>\n",
       "<style scoped>\n",
       "    .dataframe tbody tr th:only-of-type {\n",
       "        vertical-align: middle;\n",
       "    }\n",
       "\n",
       "    .dataframe tbody tr th {\n",
       "        vertical-align: top;\n",
       "    }\n",
       "\n",
       "    .dataframe thead th {\n",
       "        text-align: right;\n",
       "    }\n",
       "</style>\n",
       "<table border=\"1\" class=\"dataframe\">\n",
       "  <thead>\n",
       "    <tr style=\"text-align: right;\">\n",
       "      <th></th>\n",
       "      <th>input</th>\n",
       "      <th>ideal</th>\n",
       "    </tr>\n",
       "  </thead>\n",
       "  <tbody>\n",
       "    <tr>\n",
       "      <th>0</th>\n",
       "      <td>[{'role': 'system', 'content': 'You are LawStu...</td>\n",
       "      <td>False</td>\n",
       "    </tr>\n",
       "    <tr>\n",
       "      <th>1</th>\n",
       "      <td>[{'role': 'system', 'content': 'You are LawStu...</td>\n",
       "      <td>False</td>\n",
       "    </tr>\n",
       "    <tr>\n",
       "      <th>2</th>\n",
       "      <td>[{'role': 'system', 'content': 'You are LawStu...</td>\n",
       "      <td>True</td>\n",
       "    </tr>\n",
       "    <tr>\n",
       "      <th>3</th>\n",
       "      <td>[{'role': 'system', 'content': 'You are LawStu...</td>\n",
       "      <td>False</td>\n",
       "    </tr>\n",
       "    <tr>\n",
       "      <th>4</th>\n",
       "      <td>[{'role': 'system', 'content': 'You are LawStu...</td>\n",
       "      <td>False</td>\n",
       "    </tr>\n",
       "  </tbody>\n",
       "</table>\n",
       "</div>"
      ],
      "text/plain": [
       "                                               input  ideal\n",
       "0  [{'role': 'system', 'content': 'You are LawStu...  False\n",
       "1  [{'role': 'system', 'content': 'You are LawStu...  False\n",
       "2  [{'role': 'system', 'content': 'You are LawStu...   True\n",
       "3  [{'role': 'system', 'content': 'You are LawStu...  False\n",
       "4  [{'role': 'system', 'content': 'You are LawStu...  False"
      ]
     },
     "execution_count": 3,
     "metadata": {},
     "output_type": "execute_result"
    }
   ],
   "source": [
    "file = './data/aba_MRPC_true_false.jsonl'\n",
    "with open(file) as f:\n",
    "    lines = f.readlines()\n",
    "    lines = [json.loads(line) for line in lines]\n",
    "\n",
    "df = pd.DataFrame(lines)\n",
    "df.head()"
   ]
  },
  {
   "cell_type": "code",
   "execution_count": 4,
   "metadata": {},
   "outputs": [],
   "source": [
    "def extract(result):\n",
    "    result = result.lower()\n",
    "    if 'true' in result:\n",
    "        return 'True'\n",
    "    elif 'false' in result:\n",
    "        return 'False'\n",
    "    else:\n",
    "        return 'no answer'\n",
    "target_names = {0: 'False', 1: 'True', 3: 'no answer'}"
   ]
  },
  {
   "cell_type": "code",
   "execution_count": 5,
   "metadata": {},
   "outputs": [],
   "source": [
    "target_numbers = {v: k for k, v in target_names.items()}\n",
    "df['formatted_input'] = df.apply(lambda x: xmlify(x['input']), axis=1)\n",
    "df['ground_truth'] = df.ideal.map(target_numbers)"
   ]
  },
  {
   "attachments": {},
   "cell_type": "markdown",
   "metadata": {},
   "source": [
    "## Quick analysis of eval set"
   ]
  },
  {
   "attachments": {},
   "cell_type": "markdown",
   "metadata": {},
   "source": [
    "The dataset is slightly imbalanced at approximately 60:40. This should not matter since we are not training any models.\n",
    "\n",
    "However, it may become relevant when experimenting with uncertainty quantification."
   ]
  },
  {
   "cell_type": "code",
   "execution_count": 6,
   "metadata": {},
   "outputs": [
    {
     "name": "stdout",
     "output_type": "stream",
     "text": [
      "110 samples in total\n",
      "ideal\n",
      "False    0.618182\n",
      "True     0.381818\n",
      "Name: count, dtype: float64\n"
     ]
    }
   ],
   "source": [
    "print(len(df), 'samples in total')\n",
    "print(df.ideal.value_counts() / len(df)) # check the distribution of the ground truth)"
   ]
  },
  {
   "cell_type": "code",
   "execution_count": 10,
   "metadata": {},
   "outputs": [],
   "source": [
    "# Let's just do the whole dataset since it's only 110 samples.\n",
    "# df = df.sample(100, random_state=42)"
   ]
  },
  {
   "attachments": {},
   "cell_type": "markdown",
   "metadata": {},
   "source": [
    "## Evaluation against GPT-3.5-turbo using base eval settings"
   ]
  },
  {
   "cell_type": "code",
   "execution_count": 70,
   "metadata": {},
   "outputs": [],
   "source": [
    "turbo_params = {'model_name': 'gpt-3.5-turbo', 'temperature': 0.0, 'frequency_penalty': 1.0, 'presence_penalty': 0.5, 'n': 1, 'max_tokens': 64}"
   ]
  },
  {
   "cell_type": "code",
   "execution_count": 71,
   "metadata": {},
   "outputs": [],
   "source": [
    "df['base'] = df.apply(lambda x: no_prompt_complete(x['input'], turbo_params), axis=1)"
   ]
  },
  {
   "cell_type": "code",
   "execution_count": 72,
   "metadata": {},
   "outputs": [
    {
     "data": {
      "text/html": [
       "<div>\n",
       "<style scoped>\n",
       "    .dataframe tbody tr th:only-of-type {\n",
       "        vertical-align: middle;\n",
       "    }\n",
       "\n",
       "    .dataframe tbody tr th {\n",
       "        vertical-align: top;\n",
       "    }\n",
       "\n",
       "    .dataframe thead th {\n",
       "        text-align: right;\n",
       "    }\n",
       "</style>\n",
       "<table border=\"1\" class=\"dataframe\">\n",
       "  <thead>\n",
       "    <tr style=\"text-align: right;\">\n",
       "      <th></th>\n",
       "      <th>input</th>\n",
       "      <th>ideal</th>\n",
       "      <th>formatted_input</th>\n",
       "      <th>ground_truth</th>\n",
       "      <th>base</th>\n",
       "      <th>base_answer</th>\n",
       "      <th>base_pred</th>\n",
       "    </tr>\n",
       "  </thead>\n",
       "  <tbody>\n",
       "    <tr>\n",
       "      <th>0</th>\n",
       "      <td>[{'role': 'system', 'content': 'You are LawStu...</td>\n",
       "      <td>False</td>\n",
       "      <td>&lt;input&gt;&lt;message&gt;&lt;source&gt;user&lt;/source&gt;&lt;content&gt;...</td>\n",
       "      <td>0</td>\n",
       "      <td>True. According to Rule 1.1 of the ABA Model R...</td>\n",
       "      <td>True</td>\n",
       "      <td>1</td>\n",
       "    </tr>\n",
       "    <tr>\n",
       "      <th>1</th>\n",
       "      <td>[{'role': 'system', 'content': 'You are LawStu...</td>\n",
       "      <td>False</td>\n",
       "      <td>&lt;input&gt;&lt;message&gt;&lt;source&gt;user&lt;/source&gt;&lt;content&gt;...</td>\n",
       "      <td>0</td>\n",
       "      <td>False. According to the ABA Model Rules of Pro...</td>\n",
       "      <td>False</td>\n",
       "      <td>0</td>\n",
       "    </tr>\n",
       "    <tr>\n",
       "      <th>2</th>\n",
       "      <td>[{'role': 'system', 'content': 'You are LawStu...</td>\n",
       "      <td>True</td>\n",
       "      <td>&lt;input&gt;&lt;message&gt;&lt;source&gt;user&lt;/source&gt;&lt;content&gt;...</td>\n",
       "      <td>1</td>\n",
       "      <td>True. According to Rule 1.1 of the ABA Model R...</td>\n",
       "      <td>True</td>\n",
       "      <td>1</td>\n",
       "    </tr>\n",
       "    <tr>\n",
       "      <th>3</th>\n",
       "      <td>[{'role': 'system', 'content': 'You are LawStu...</td>\n",
       "      <td>False</td>\n",
       "      <td>&lt;input&gt;&lt;message&gt;&lt;source&gt;user&lt;/source&gt;&lt;content&gt;...</td>\n",
       "      <td>0</td>\n",
       "      <td>False. The ABA Model Rules of Professional Con...</td>\n",
       "      <td>False</td>\n",
       "      <td>0</td>\n",
       "    </tr>\n",
       "    <tr>\n",
       "      <th>4</th>\n",
       "      <td>[{'role': 'system', 'content': 'You are LawStu...</td>\n",
       "      <td>False</td>\n",
       "      <td>&lt;input&gt;&lt;message&gt;&lt;source&gt;user&lt;/source&gt;&lt;content&gt;...</td>\n",
       "      <td>0</td>\n",
       "      <td>True. According to Rule 1.1 of the ABA Model R...</td>\n",
       "      <td>True</td>\n",
       "      <td>1</td>\n",
       "    </tr>\n",
       "  </tbody>\n",
       "</table>\n",
       "</div>"
      ],
      "text/plain": [
       "                                               input  ideal   \n",
       "0  [{'role': 'system', 'content': 'You are LawStu...  False  \\\n",
       "1  [{'role': 'system', 'content': 'You are LawStu...  False   \n",
       "2  [{'role': 'system', 'content': 'You are LawStu...   True   \n",
       "3  [{'role': 'system', 'content': 'You are LawStu...  False   \n",
       "4  [{'role': 'system', 'content': 'You are LawStu...  False   \n",
       "\n",
       "                                     formatted_input  ground_truth   \n",
       "0  <input><message><source>user</source><content>...             0  \\\n",
       "1  <input><message><source>user</source><content>...             0   \n",
       "2  <input><message><source>user</source><content>...             1   \n",
       "3  <input><message><source>user</source><content>...             0   \n",
       "4  <input><message><source>user</source><content>...             0   \n",
       "\n",
       "                                                base base_answer  base_pred  \n",
       "0  True. According to Rule 1.1 of the ABA Model R...        True          1  \n",
       "1  False. According to the ABA Model Rules of Pro...       False          0  \n",
       "2  True. According to Rule 1.1 of the ABA Model R...        True          1  \n",
       "3  False. The ABA Model Rules of Professional Con...       False          0  \n",
       "4  True. According to Rule 1.1 of the ABA Model R...        True          1  "
      ]
     },
     "execution_count": 72,
     "metadata": {},
     "output_type": "execute_result"
    }
   ],
   "source": [
    "df['base_answer'] = df.apply(lambda x: extract(x['base']), axis=1)\n",
    "df['base_pred'] = df.base_answer.map(target_numbers)\n",
    "df.head()"
   ]
  },
  {
   "cell_type": "code",
   "execution_count": 73,
   "metadata": {},
   "outputs": [
    {
     "name": "stdout",
     "output_type": "stream",
     "text": [
      "              precision    recall  f1-score   support\n",
      "\n",
      "       False       0.86      0.56      0.68        68\n",
      "        True       0.55      0.86      0.67        42\n",
      "\n",
      "    accuracy                           0.67       110\n",
      "   macro avg       0.70      0.71      0.67       110\n",
      "weighted avg       0.74      0.67      0.67       110\n",
      "\n"
     ]
    }
   ],
   "source": [
    "from sklearn.metrics import classification_report\n",
    "\n",
    "y_true = df['ground_truth']\n",
    "y_pred = df['base_pred']\n",
    "report = classification_report(y_true, y_pred,target_names=target_names.values(), labels=list(target_names.keys()), zero_division=1)\n",
    "print(report)"
   ]
  },
  {
   "cell_type": "code",
   "execution_count": 74,
   "metadata": {},
   "outputs": [
    {
     "data": {
      "text/plain": [
       "<sklearn.metrics._plot.confusion_matrix.ConfusionMatrixDisplay at 0x1ff52413dc0>"
      ]
     },
     "execution_count": 74,
     "metadata": {},
     "output_type": "execute_result"
    },
    {
     "data": {
      "image/png": "[encoded data removed]",
      "text/plain": [
       "<Figure size 640x480 with 2 Axes>"
      ]
     },
     "metadata": {},
     "output_type": "display_data"
    }
   ],
   "source": [
    "from sklearn.metrics import confusion_matrix, ConfusionMatrixDisplay\n",
    "matrix = confusion_matrix(y_true, y_pred, labels=list(target_names.keys()))\n",
    "disp = ConfusionMatrixDisplay(confusion_matrix=matrix, display_labels=target_names.values())\n",
    "disp.plot()"
   ]
  },
  {
   "attachments": {},
   "cell_type": "markdown",
   "metadata": {},
   "source": [
    "Overall this is good performance! We have very high sensitivity. Unfortunately, we have low specificity. \n",
    "\n",
    "Best of all there are no mis-classifications so we can probably drop those from the analysis to get a better classification report. "
   ]
  },
  {
   "cell_type": "code",
   "execution_count": 75,
   "metadata": {},
   "outputs": [],
   "source": [
    "# Redefine target nodes so as to avoid the 'no answer' class\n",
    "target_names = {0: 'False', 1: 'True'}#  , 3: 'no answer'}"
   ]
  },
  {
   "attachments": {},
   "cell_type": "markdown",
   "metadata": {},
   "source": [
    "We will want to take a look at what is causing all the False Positives, perhaps some kind of specific bias that we can prompt around. "
   ]
  },
  {
   "attachments": {},
   "cell_type": "markdown",
   "metadata": {},
   "source": [
    "## Evaluation against GPT-4 using base eval settings"
   ]
  },
  {
   "cell_type": "code",
   "execution_count": 13,
   "metadata": {},
   "outputs": [],
   "source": [
    "gpt4_params = {'model_name': 'gpt-4', 'temperature': 0.0, 'frequency_penalty': 1.0, 'presence_penalty': 0.5, 'n': 1, 'max_tokens': 64}"
   ]
  },
  {
   "cell_type": "code",
   "execution_count": 16,
   "metadata": {},
   "outputs": [
    {
     "name": "stderr",
     "output_type": "stream",
     "text": [
      " 31%|███       | 34/110 [04:07<12:35,  9.94s/it]Retrying langchain.chat_models.openai.ChatOpenAI.completion_with_retry.<locals>._completion_with_retry in 4.0 seconds as it raised Timeout: Request timed out: HTTPSConnectionPool(host='api.openai.com', port=443): Read timed out. (read timeout=60).\n",
      "100%|██████████| 110/110 [12:48<00:00,  6.99s/it]\n"
     ]
    },
    {
     "data": {
      "text/html": [
       "<div>\n",
       "<style scoped>\n",
       "    .dataframe tbody tr th:only-of-type {\n",
       "        vertical-align: middle;\n",
       "    }\n",
       "\n",
       "    .dataframe tbody tr th {\n",
       "        vertical-align: top;\n",
       "    }\n",
       "\n",
       "    .dataframe thead th {\n",
       "        text-align: right;\n",
       "    }\n",
       "</style>\n",
       "<table border=\"1\" class=\"dataframe\">\n",
       "  <thead>\n",
       "    <tr style=\"text-align: right;\">\n",
       "      <th></th>\n",
       "      <th>input</th>\n",
       "      <th>ideal</th>\n",
       "      <th>formatted_input</th>\n",
       "      <th>ground_truth</th>\n",
       "      <th>base</th>\n",
       "      <th>base_answer</th>\n",
       "      <th>base_pred</th>\n",
       "    </tr>\n",
       "  </thead>\n",
       "  <tbody>\n",
       "    <tr>\n",
       "      <th>0</th>\n",
       "      <td>[{'role': 'system', 'content': 'You are LawStu...</td>\n",
       "      <td>False</td>\n",
       "      <td>&lt;input&gt;&lt;message&gt;&lt;source&gt;system&lt;/source&gt;&lt;conten...</td>\n",
       "      <td>0</td>\n",
       "      <td>False. According to the ABA Model Rules of Pro...</td>\n",
       "      <td>False</td>\n",
       "      <td>0</td>\n",
       "    </tr>\n",
       "    <tr>\n",
       "      <th>1</th>\n",
       "      <td>[{'role': 'system', 'content': 'You are LawStu...</td>\n",
       "      <td>False</td>\n",
       "      <td>&lt;input&gt;&lt;message&gt;&lt;source&gt;system&lt;/source&gt;&lt;conten...</td>\n",
       "      <td>0</td>\n",
       "      <td>False. According to the ABA Model Rules of Pro...</td>\n",
       "      <td>False</td>\n",
       "      <td>0</td>\n",
       "    </tr>\n",
       "    <tr>\n",
       "      <th>2</th>\n",
       "      <td>[{'role': 'system', 'content': 'You are LawStu...</td>\n",
       "      <td>True</td>\n",
       "      <td>&lt;input&gt;&lt;message&gt;&lt;source&gt;system&lt;/source&gt;&lt;conten...</td>\n",
       "      <td>1</td>\n",
       "      <td>True</td>\n",
       "      <td>True</td>\n",
       "      <td>1</td>\n",
       "    </tr>\n",
       "    <tr>\n",
       "      <th>3</th>\n",
       "      <td>[{'role': 'system', 'content': 'You are LawStu...</td>\n",
       "      <td>False</td>\n",
       "      <td>&lt;input&gt;&lt;message&gt;&lt;source&gt;system&lt;/source&gt;&lt;conten...</td>\n",
       "      <td>0</td>\n",
       "      <td>False. While a lawyer should be competent in t...</td>\n",
       "      <td>False</td>\n",
       "      <td>0</td>\n",
       "    </tr>\n",
       "    <tr>\n",
       "      <th>4</th>\n",
       "      <td>[{'role': 'system', 'content': 'You are LawStu...</td>\n",
       "      <td>False</td>\n",
       "      <td>&lt;input&gt;&lt;message&gt;&lt;source&gt;system&lt;/source&gt;&lt;conten...</td>\n",
       "      <td>0</td>\n",
       "      <td>True</td>\n",
       "      <td>True</td>\n",
       "      <td>1</td>\n",
       "    </tr>\n",
       "  </tbody>\n",
       "</table>\n",
       "</div>"
      ],
      "text/plain": [
       "                                               input  ideal   \n",
       "0  [{'role': 'system', 'content': 'You are LawStu...  False  \\\n",
       "1  [{'role': 'system', 'content': 'You are LawStu...  False   \n",
       "2  [{'role': 'system', 'content': 'You are LawStu...   True   \n",
       "3  [{'role': 'system', 'content': 'You are LawStu...  False   \n",
       "4  [{'role': 'system', 'content': 'You are LawStu...  False   \n",
       "\n",
       "                                     formatted_input  ground_truth   \n",
       "0  <input><message><source>system</source><conten...             0  \\\n",
       "1  <input><message><source>system</source><conten...             0   \n",
       "2  <input><message><source>system</source><conten...             1   \n",
       "3  <input><message><source>system</source><conten...             0   \n",
       "4  <input><message><source>system</source><conten...             0   \n",
       "\n",
       "                                                base base_answer  base_pred  \n",
       "0  False. According to the ABA Model Rules of Pro...       False          0  \n",
       "1  False. According to the ABA Model Rules of Pro...       False          0  \n",
       "2                                               True        True          1  \n",
       "3  False. While a lawyer should be competent in t...       False          0  \n",
       "4                                               True        True          1  "
      ]
     },
     "execution_count": 16,
     "metadata": {},
     "output_type": "execute_result"
    }
   ],
   "source": [
    "df['base'] = df.progress_apply(lambda x: no_prompt_complete(x['input'], gpt4_params), axis=1)\n",
    "df['base_answer'] = df.apply(lambda x: extract(x['base']), axis=1)\n",
    "df['base_pred'] = df.base_answer.map(target_numbers)\n",
    "df.head()"
   ]
  },
  {
   "cell_type": "code",
   "execution_count": 19,
   "metadata": {},
   "outputs": [
    {
     "name": "stdout",
     "output_type": "stream",
     "text": [
      "              precision    recall  f1-score   support\n",
      "\n",
      "       False       0.94      0.75      0.84        68\n",
      "        True       0.70      0.93      0.80        42\n",
      "\n",
      "    accuracy                           0.82       110\n",
      "   macro avg       0.82      0.84      0.82       110\n",
      "weighted avg       0.85      0.82      0.82       110\n",
      "\n"
     ]
    }
   ],
   "source": [
    "from sklearn.metrics import classification_report\n",
    "y_true = df['ground_truth']\n",
    "y_pred = df['base_pred']\n",
    "report = classification_report(y_true, y_pred,target_names=target_names.values(), labels=list(target_names.keys()), zero_division=1)\n",
    "print(report)"
   ]
  },
  {
   "cell_type": "code",
   "execution_count": 20,
   "metadata": {},
   "outputs": [
    {
     "data": {
      "text/plain": [
       "<sklearn.metrics._plot.confusion_matrix.ConfusionMatrixDisplay at 0x1f898130a90>"
      ]
     },
     "execution_count": 20,
     "metadata": {},
     "output_type": "execute_result"
    },
    {
     "data": {
      "image/png": "[encoded data removed]",
      "text/plain": [
       "<Figure size 640x480 with 2 Axes>"
      ]
     },
     "metadata": {},
     "output_type": "display_data"
    }
   ],
   "source": [
    "from sklearn.metrics import confusion_matrix, ConfusionMatrixDisplay\n",
    "matrix = confusion_matrix(y_true, y_pred, labels=list(target_names.keys()))\n",
    "disp = ConfusionMatrixDisplay(confusion_matrix=matrix, display_labels=target_names.values())\n",
    "disp.plot()"
   ]
  },
  {
   "attachments": {},
   "cell_type": "markdown",
   "metadata": {},
   "source": [
    "GPT-4 does signficantly better than GPT-3.5 in this example, as expected. Let's see if chatXML helps or hurts. "
   ]
  },
  {
   "cell_type": "code",
   "execution_count": 25,
   "metadata": {},
   "outputs": [
    {
     "name": "stdout",
     "output_type": "stream",
     "text": [
      "<input><message><source>system</source><content>You are LawStudentGPT. Answer the following True/False question according to the ABA Model Rules of Professional Conduct.</content></message><message><source>user</source><content>A lawyer is allowed to reveal information relating to the representation of a client to establish a defense in a controversy between the lawyer and the client.</content></message></input>\n",
      "True\n"
     ]
    }
   ],
   "source": [
    "out = df.sample(1)\n",
    "print(out.formatted_input.values[0])\n",
    "print(out.ideal.values[0])"
   ]
  },
  {
   "attachments": {},
   "cell_type": "markdown",
   "metadata": {},
   "source": [
    "## ChatXML using GPT-3.5 and one example. "
   ]
  },
  {
   "cell_type": "code",
   "execution_count": 7,
   "metadata": {},
   "outputs": [],
   "source": [
    "from expert import LanguageExpert\n",
    "single_example_prompt = {\n",
    "    'name': 'eval_executor', \n",
    "    'system_message': \"I am an expert evaluator. I will take your input and output a response in the requested format.\", \n",
    "    'description': 'Takes eval messages as input and outputs a response in the requested format.', \n",
    "    'example_input': '''<input><message><source>system</source><content>You are LawStudentGPT. Answer the following True/False question according to the ABA Model Rules of Professional Conduct.</content></message><message><source>user</source><content>A lawyer is allowed to reveal information relating to the representation of a client to establish a defense in a controversy between the lawyer and the client.</content></message></input>''', \n",
    "    'example_output': \"<output><message><source>assistant</source><content>True</content></message></output>\",\n",
    "    }\n",
    "turbo_params = {'model_name': 'gpt-3.5-turbo', 'temperature': 0.0, 'frequency_penalty': 1.0, 'presence_penalty': 0.5, 'n': 1, 'max_tokens': 64}\n",
    "expert = LanguageExpert(**single_example_prompt, model_params=turbo_params)"
   ]
  },
  {
   "cell_type": "code",
   "execution_count": 8,
   "metadata": {},
   "outputs": [
    {
     "name": "stderr",
     "output_type": "stream",
     "text": [
      " 44%|████▎     | 48/110 [03:07<03:51,  3.73s/it]Retrying langchain.chat_models.openai.ChatOpenAI.completion_with_retry.<locals>._completion_with_retry in 4.0 seconds as it raised RateLimitError: That model is currently overloaded with other requests. You can retry your request, or contact us through our help center at help.openai.com if the error persists. (Please include the request ID 22a0ea4688b88ee8c169791d60f614a0 in your message.).\n",
      "100%|██████████| 110/110 [07:39<00:00,  4.17s/it]\n"
     ]
    },
    {
     "data": {
      "text/html": [
       "<div>\n",
       "<style scoped>\n",
       "    .dataframe tbody tr th:only-of-type {\n",
       "        vertical-align: middle;\n",
       "    }\n",
       "\n",
       "    .dataframe tbody tr th {\n",
       "        vertical-align: top;\n",
       "    }\n",
       "\n",
       "    .dataframe thead th {\n",
       "        text-align: right;\n",
       "    }\n",
       "</style>\n",
       "<table border=\"1\" class=\"dataframe\">\n",
       "  <thead>\n",
       "    <tr style=\"text-align: right;\">\n",
       "      <th></th>\n",
       "      <th>input</th>\n",
       "      <th>ideal</th>\n",
       "      <th>formatted_input</th>\n",
       "      <th>ground_truth</th>\n",
       "      <th>base</th>\n",
       "      <th>base_answer</th>\n",
       "      <th>base_pred</th>\n",
       "    </tr>\n",
       "  </thead>\n",
       "  <tbody>\n",
       "    <tr>\n",
       "      <th>0</th>\n",
       "      <td>[{'role': 'system', 'content': 'You are LawStu...</td>\n",
       "      <td>False</td>\n",
       "      <td>&lt;input&gt;&lt;message&gt;&lt;source&gt;system&lt;/source&gt;&lt;conten...</td>\n",
       "      <td>0</td>\n",
       "      <td>False. According to Rule 1.1 of the ABA Model ...</td>\n",
       "      <td>False</td>\n",
       "      <td>0</td>\n",
       "    </tr>\n",
       "    <tr>\n",
       "      <th>1</th>\n",
       "      <td>[{'role': 'system', 'content': 'You are LawStu...</td>\n",
       "      <td>False</td>\n",
       "      <td>&lt;input&gt;&lt;message&gt;&lt;source&gt;system&lt;/source&gt;&lt;conten...</td>\n",
       "      <td>0</td>\n",
       "      <td>False. The ABA Model Rules of Professional Con...</td>\n",
       "      <td>False</td>\n",
       "      <td>0</td>\n",
       "    </tr>\n",
       "    <tr>\n",
       "      <th>2</th>\n",
       "      <td>[{'role': 'system', 'content': 'You are LawStu...</td>\n",
       "      <td>True</td>\n",
       "      <td>&lt;input&gt;&lt;message&gt;&lt;source&gt;system&lt;/source&gt;&lt;conten...</td>\n",
       "      <td>1</td>\n",
       "      <td>True. According to Rule 1.1 of the ABA Model R...</td>\n",
       "      <td>True</td>\n",
       "      <td>1</td>\n",
       "    </tr>\n",
       "    <tr>\n",
       "      <th>3</th>\n",
       "      <td>[{'role': 'system', 'content': 'You are LawStu...</td>\n",
       "      <td>False</td>\n",
       "      <td>&lt;input&gt;&lt;message&gt;&lt;source&gt;system&lt;/source&gt;&lt;conten...</td>\n",
       "      <td>0</td>\n",
       "      <td>&lt;output&gt;&lt;message&gt;&lt;source&gt;assistant&lt;/source&gt;&lt;co...</td>\n",
       "      <td>False</td>\n",
       "      <td>0</td>\n",
       "    </tr>\n",
       "    <tr>\n",
       "      <th>4</th>\n",
       "      <td>[{'role': 'system', 'content': 'You are LawStu...</td>\n",
       "      <td>False</td>\n",
       "      <td>&lt;input&gt;&lt;message&gt;&lt;source&gt;system&lt;/source&gt;&lt;conten...</td>\n",
       "      <td>0</td>\n",
       "      <td>&lt;output&gt;&lt;message&gt;&lt;source&gt;assistant&lt;/source&gt;&lt;co...</td>\n",
       "      <td>True</td>\n",
       "      <td>1</td>\n",
       "    </tr>\n",
       "  </tbody>\n",
       "</table>\n",
       "</div>"
      ],
      "text/plain": [
       "                                               input  ideal   \n",
       "0  [{'role': 'system', 'content': 'You are LawStu...  False  \\\n",
       "1  [{'role': 'system', 'content': 'You are LawStu...  False   \n",
       "2  [{'role': 'system', 'content': 'You are LawStu...   True   \n",
       "3  [{'role': 'system', 'content': 'You are LawStu...  False   \n",
       "4  [{'role': 'system', 'content': 'You are LawStu...  False   \n",
       "\n",
       "                                     formatted_input  ground_truth   \n",
       "0  <input><message><source>system</source><conten...             0  \\\n",
       "1  <input><message><source>system</source><conten...             0   \n",
       "2  <input><message><source>system</source><conten...             1   \n",
       "3  <input><message><source>system</source><conten...             0   \n",
       "4  <input><message><source>system</source><conten...             0   \n",
       "\n",
       "                                                base base_answer  base_pred  \n",
       "0  False. According to Rule 1.1 of the ABA Model ...       False          0  \n",
       "1  False. The ABA Model Rules of Professional Con...       False          0  \n",
       "2  True. According to Rule 1.1 of the ABA Model R...        True          1  \n",
       "3  <output><message><source>assistant</source><co...       False          0  \n",
       "4  <output><message><source>assistant</source><co...        True          1  "
      ]
     },
     "execution_count": 8,
     "metadata": {},
     "output_type": "execute_result"
    }
   ],
   "source": [
    "df['base'] = df.progress_apply(lambda x: expert(x['formatted_input']), axis=1)\n",
    "df['base_answer'] = df.apply(lambda x: extract(x['base']), axis=1)\n",
    "df['base_pred'] = df.base_answer.map(target_numbers)\n",
    "df.head()"
   ]
  },
  {
   "cell_type": "code",
   "execution_count": 9,
   "metadata": {},
   "outputs": [
    {
     "name": "stdout",
     "output_type": "stream",
     "text": [
      "              precision    recall  f1-score   support\n",
      "\n",
      "       False       0.77      0.69      0.73        68\n",
      "        True       0.58      0.67      0.62        42\n",
      "   no answer       0.00      1.00      0.00         0\n",
      "\n",
      "    accuracy                           0.68       110\n",
      "   macro avg       0.45      0.79      0.45       110\n",
      "weighted avg       0.70      0.68      0.69       110\n",
      "\n"
     ]
    }
   ],
   "source": [
    "from sklearn.metrics import classification_report\n",
    "y_true = df['ground_truth']\n",
    "y_pred = df['base_pred']\n",
    "report = classification_report(y_true, y_pred,target_names=target_names.values(), labels=list(target_names.keys()), zero_division=1)\n",
    "print(report)"
   ]
  },
  {
   "cell_type": "code",
   "execution_count": 10,
   "metadata": {},
   "outputs": [
    {
     "data": {
      "text/plain": [
       "<sklearn.metrics._plot.confusion_matrix.ConfusionMatrixDisplay at 0x1ff482efcd0>"
      ]
     },
     "execution_count": 10,
     "metadata": {},
     "output_type": "execute_result"
    },
    {
     "data": {
      "image/png": "[encoded data removed]",
      "text/plain": [
       "<Figure size 640x480 with 2 Axes>"
      ]
     },
     "metadata": {},
     "output_type": "display_data"
    }
   ],
   "source": [
    "from sklearn.metrics import confusion_matrix, ConfusionMatrixDisplay\n",
    "matrix = confusion_matrix(y_true, y_pred, labels=list(target_names.keys()))\n",
    "disp = ConfusionMatrixDisplay(confusion_matrix=matrix, display_labels=target_names.values())\n",
    "disp.plot()"
   ]
  },
  {
   "cell_type": "code",
   "execution_count": 11,
   "metadata": {},
   "outputs": [
    {
     "data": {
      "text/plain": [
       "'True. According to ABA Model Rule 8.3, \"a lawyer who knows that another lawyer has committed a violation of the Rules of Professional Conduct that raises a substantial question as to that lawyer\\'s honesty, trustworthiness or fitness as a lawyer in other respects, shall inform the appropriate professional authority.\" This also'"
      ]
     },
     "execution_count": 11,
     "metadata": {},
     "output_type": "execute_result"
    }
   ],
   "source": [
    "df.sample(1).base.values[0]"
   ]
  },
  {
   "cell_type": "code",
   "execution_count": 12,
   "metadata": {},
   "outputs": [
    {
     "name": "stdout",
     "output_type": "stream",
     "text": [
      "<output><message><source>assistant</source><content>It depends on the circumstances. While an attorney generally has a duty of confidentiality to their client, this duty is not absolute and may be subject to exceptions such as when the disclosure is necessary to prevent reasonably certain death or substantial bodily harm; prevent the client from\n"
     ]
    }
   ],
   "source": [
    "print(df[df.base_pred==3].sample(1)['base'].values[0])"
   ]
  },
  {
   "attachments": {},
   "cell_type": "markdown",
   "metadata": {},
   "source": [
    "Overall performance is about the same as base GPT-3.5 but the distribution of errors is no more evenly shared. We have much fewer false positives but many more true negatives. "
   ]
  },
  {
   "attachments": {},
   "cell_type": "markdown",
   "metadata": {},
   "source": [
    "## ChatXML using GPT-4 and one example. "
   ]
  },
  {
   "cell_type": "code",
   "execution_count": 13,
   "metadata": {},
   "outputs": [],
   "source": [
    "from expert import LanguageExpert\n",
    "single_example_prompt = {\n",
    "    'name': 'eval_executor', \n",
    "    'system_message': \"I am an expert evaluator. I will take your input and output a response in the requested format.\", \n",
    "    'description': 'Takes eval messages as input and outputs a response in the requested format.', \n",
    "    'example_input': '''<input><message><source>system</source><content>You are LawStudentGPT. Answer the following True/False question according to the ABA Model Rules of Professional Conduct.</content></message><message><source>user</source><content>A lawyer is allowed to reveal information relating to the representation of a client to establish a defense in a controversy between the lawyer and the client.</content></message></input>''', \n",
    "    'example_output': \"<output><message><source>assistant</source><content>True</content></message></output>\",\n",
    "    }\n",
    "gpt4_params = {'model_name': 'gpt-4', 'temperature': 0.0, 'frequency_penalty': 1.0, 'presence_penalty': 0.5, 'n': 1, 'max_tokens': 64}\n",
    "expert = LanguageExpert(**single_example_prompt, model_params=gpt4_params)"
   ]
  },
  {
   "cell_type": "code",
   "execution_count": 17,
   "metadata": {},
   "outputs": [
    {
     "name": "stderr",
     "output_type": "stream",
     "text": [
      "100%|██████████| 110/110 [02:57<00:00,  1.62s/it]\n"
     ]
    },
    {
     "data": {
      "text/html": [
       "<div>\n",
       "<style scoped>\n",
       "    .dataframe tbody tr th:only-of-type {\n",
       "        vertical-align: middle;\n",
       "    }\n",
       "\n",
       "    .dataframe tbody tr th {\n",
       "        vertical-align: top;\n",
       "    }\n",
       "\n",
       "    .dataframe thead th {\n",
       "        text-align: right;\n",
       "    }\n",
       "</style>\n",
       "<table border=\"1\" class=\"dataframe\">\n",
       "  <thead>\n",
       "    <tr style=\"text-align: right;\">\n",
       "      <th></th>\n",
       "      <th>input</th>\n",
       "      <th>ideal</th>\n",
       "      <th>formatted_input</th>\n",
       "      <th>ground_truth</th>\n",
       "      <th>base</th>\n",
       "      <th>base_answer</th>\n",
       "      <th>base_pred</th>\n",
       "    </tr>\n",
       "  </thead>\n",
       "  <tbody>\n",
       "    <tr>\n",
       "      <th>0</th>\n",
       "      <td>[{'role': 'system', 'content': 'You are LawStu...</td>\n",
       "      <td>False</td>\n",
       "      <td>&lt;input&gt;&lt;message&gt;&lt;source&gt;system&lt;/source&gt;&lt;conten...</td>\n",
       "      <td>0</td>\n",
       "      <td>False</td>\n",
       "      <td>False</td>\n",
       "      <td>0</td>\n",
       "    </tr>\n",
       "    <tr>\n",
       "      <th>1</th>\n",
       "      <td>[{'role': 'system', 'content': 'You are LawStu...</td>\n",
       "      <td>False</td>\n",
       "      <td>&lt;input&gt;&lt;message&gt;&lt;source&gt;system&lt;/source&gt;&lt;conten...</td>\n",
       "      <td>0</td>\n",
       "      <td>&lt;output&gt;&lt;message&gt;&lt;source&gt;assistant&lt;/source&gt;&lt;co...</td>\n",
       "      <td>False</td>\n",
       "      <td>0</td>\n",
       "    </tr>\n",
       "    <tr>\n",
       "      <th>2</th>\n",
       "      <td>[{'role': 'system', 'content': 'You are LawStu...</td>\n",
       "      <td>True</td>\n",
       "      <td>&lt;input&gt;&lt;message&gt;&lt;source&gt;system&lt;/source&gt;&lt;conten...</td>\n",
       "      <td>1</td>\n",
       "      <td>True</td>\n",
       "      <td>True</td>\n",
       "      <td>1</td>\n",
       "    </tr>\n",
       "    <tr>\n",
       "      <th>3</th>\n",
       "      <td>[{'role': 'system', 'content': 'You are LawStu...</td>\n",
       "      <td>False</td>\n",
       "      <td>&lt;input&gt;&lt;message&gt;&lt;source&gt;system&lt;/source&gt;&lt;conten...</td>\n",
       "      <td>0</td>\n",
       "      <td>False</td>\n",
       "      <td>False</td>\n",
       "      <td>0</td>\n",
       "    </tr>\n",
       "    <tr>\n",
       "      <th>4</th>\n",
       "      <td>[{'role': 'system', 'content': 'You are LawStu...</td>\n",
       "      <td>False</td>\n",
       "      <td>&lt;input&gt;&lt;message&gt;&lt;source&gt;system&lt;/source&gt;&lt;conten...</td>\n",
       "      <td>0</td>\n",
       "      <td>False</td>\n",
       "      <td>False</td>\n",
       "      <td>0</td>\n",
       "    </tr>\n",
       "  </tbody>\n",
       "</table>\n",
       "</div>"
      ],
      "text/plain": [
       "                                               input  ideal   \n",
       "0  [{'role': 'system', 'content': 'You are LawStu...  False  \\\n",
       "1  [{'role': 'system', 'content': 'You are LawStu...  False   \n",
       "2  [{'role': 'system', 'content': 'You are LawStu...   True   \n",
       "3  [{'role': 'system', 'content': 'You are LawStu...  False   \n",
       "4  [{'role': 'system', 'content': 'You are LawStu...  False   \n",
       "\n",
       "                                     formatted_input  ground_truth   \n",
       "0  <input><message><source>system</source><conten...             0  \\\n",
       "1  <input><message><source>system</source><conten...             0   \n",
       "2  <input><message><source>system</source><conten...             1   \n",
       "3  <input><message><source>system</source><conten...             0   \n",
       "4  <input><message><source>system</source><conten...             0   \n",
       "\n",
       "                                                base base_answer  base_pred  \n",
       "0                                              False       False          0  \n",
       "1  <output><message><source>assistant</source><co...       False          0  \n",
       "2                                               True        True          1  \n",
       "3                                              False       False          0  \n",
       "4                                              False       False          0  "
      ]
     },
     "execution_count": 17,
     "metadata": {},
     "output_type": "execute_result"
    }
   ],
   "source": [
    "df['base'] = df.progress_apply(lambda x: expert(x['formatted_input']), axis=1)\n",
    "df['base_answer'] = df.apply(lambda x: extract(x['base']), axis=1)\n",
    "df['base_pred'] = df.base_answer.map(target_numbers)\n",
    "df.head()"
   ]
  },
  {
   "attachments": {},
   "cell_type": "markdown",
   "metadata": {},
   "source": [
    "Note the large latency improvement. Brought on by GPT-4 enforcing the structured output. \n",
    "\n",
    "Let's see if it cost us on performance at all?"
   ]
  },
  {
   "cell_type": "code",
   "execution_count": 23,
   "metadata": {},
   "outputs": [
    {
     "name": "stdout",
     "output_type": "stream",
     "text": [
      "              precision    recall  f1-score   support\n",
      "\n",
      "       False       0.90      0.79      0.84        68\n",
      "        True       0.72      0.86      0.78        42\n",
      "\n",
      "    accuracy                           0.82       110\n",
      "   macro avg       0.81      0.83      0.81       110\n",
      "weighted avg       0.83      0.82      0.82       110\n",
      "\n"
     ]
    }
   ],
   "source": [
    "from sklearn.metrics import classification_report\n",
    "y_true = df['ground_truth']\n",
    "y_pred = df['base_pred']\n",
    "report = classification_report(y_true, y_pred,target_names=target_names.values(), labels=list(target_names.keys()), zero_division=1)\n",
    "print(report)"
   ]
  },
  {
   "cell_type": "code",
   "execution_count": 24,
   "metadata": {},
   "outputs": [
    {
     "data": {
      "text/plain": [
       "<sklearn.metrics._plot.confusion_matrix.ConfusionMatrixDisplay at 0x1ff4f6dc9a0>"
      ]
     },
     "execution_count": 24,
     "metadata": {},
     "output_type": "execute_result"
    },
    {
     "data": {
      "image/png": "[encoded data removed]",
      "text/plain": [
       "<Figure size 640x480 with 2 Axes>"
      ]
     },
     "metadata": {},
     "output_type": "display_data"
    }
   ],
   "source": [
    "from sklearn.metrics import confusion_matrix, ConfusionMatrixDisplay\n",
    "matrix = confusion_matrix(y_true, y_pred, labels=list(target_names.keys()))\n",
    "disp = ConfusionMatrixDisplay(confusion_matrix=matrix, display_labels=target_names.values())\n",
    "disp.plot()"
   ]
  },
  {
   "attachments": {},
   "cell_type": "markdown",
   "metadata": {},
   "source": [
    "Nearly identical performance compared to GPT-4 base. However, we saved completion tokens and reduced inference time by about 10 minutes since GPT-4 stopped wasting  it's time doing COT without use asking."
   ]
  },
  {
   "attachments": {},
   "cell_type": "markdown",
   "metadata": {},
   "source": [
    "## Prompt Engineered ChatXML"
   ]
  },
  {
   "attachments": {},
   "cell_type": "markdown",
   "metadata": {},
   "source": [
    "Before doing this, let's also remove the base system prompt provided by the eval dataset. This will save us 40 tokens, and may help with performance too."
   ]
  },
  {
   "cell_type": "code",
   "execution_count": 51,
   "metadata": {},
   "outputs": [
    {
     "data": {
      "text/html": [
       "<div>\n",
       "<style scoped>\n",
       "    .dataframe tbody tr th:only-of-type {\n",
       "        vertical-align: middle;\n",
       "    }\n",
       "\n",
       "    .dataframe tbody tr th {\n",
       "        vertical-align: top;\n",
       "    }\n",
       "\n",
       "    .dataframe thead th {\n",
       "        text-align: right;\n",
       "    }\n",
       "</style>\n",
       "<table border=\"1\" class=\"dataframe\">\n",
       "  <thead>\n",
       "    <tr style=\"text-align: right;\">\n",
       "      <th></th>\n",
       "      <th>input</th>\n",
       "      <th>ideal</th>\n",
       "      <th>formatted_input</th>\n",
       "      <th>ground_truth</th>\n",
       "      <th>base</th>\n",
       "      <th>base_answer</th>\n",
       "      <th>base_pred</th>\n",
       "    </tr>\n",
       "  </thead>\n",
       "  <tbody>\n",
       "    <tr>\n",
       "      <th>0</th>\n",
       "      <td>[{'role': 'system', 'content': 'You are LawStu...</td>\n",
       "      <td>False</td>\n",
       "      <td>&lt;input&gt;&lt;message&gt;&lt;source&gt;user&lt;/source&gt;&lt;content&gt;...</td>\n",
       "      <td>0</td>\n",
       "      <td>\\n&lt;message&gt;&lt;source&gt;assistant&lt;/source&gt;&lt;answer&gt;F...</td>\n",
       "      <td>False</td>\n",
       "      <td>0</td>\n",
       "    </tr>\n",
       "    <tr>\n",
       "      <th>1</th>\n",
       "      <td>[{'role': 'system', 'content': 'You are LawStu...</td>\n",
       "      <td>False</td>\n",
       "      <td>&lt;input&gt;&lt;message&gt;&lt;source&gt;user&lt;/source&gt;&lt;content&gt;...</td>\n",
       "      <td>0</td>\n",
       "      <td>&lt;answer&gt;True&lt;/answer&gt;</td>\n",
       "      <td>True</td>\n",
       "      <td>1</td>\n",
       "    </tr>\n",
       "    <tr>\n",
       "      <th>2</th>\n",
       "      <td>[{'role': 'system', 'content': 'You are LawStu...</td>\n",
       "      <td>True</td>\n",
       "      <td>&lt;input&gt;&lt;message&gt;&lt;source&gt;user&lt;/source&gt;&lt;content&gt;...</td>\n",
       "      <td>1</td>\n",
       "      <td>\\n&lt;assistant_response&gt;\\n&lt;message&gt;\\n&lt;source&gt;ass...</td>\n",
       "      <td>True</td>\n",
       "      <td>1</td>\n",
       "    </tr>\n",
       "    <tr>\n",
       "      <th>3</th>\n",
       "      <td>[{'role': 'system', 'content': 'You are LawStu...</td>\n",
       "      <td>False</td>\n",
       "      <td>&lt;input&gt;&lt;message&gt;&lt;source&gt;user&lt;/source&gt;&lt;content&gt;...</td>\n",
       "      <td>0</td>\n",
       "      <td>&lt;message&gt;&lt;source&gt;Law Student&lt;/source&gt;&lt;answer&gt;T...</td>\n",
       "      <td>True</td>\n",
       "      <td>1</td>\n",
       "    </tr>\n",
       "    <tr>\n",
       "      <th>4</th>\n",
       "      <td>[{'role': 'system', 'content': 'You are LawStu...</td>\n",
       "      <td>False</td>\n",
       "      <td>&lt;input&gt;&lt;message&gt;&lt;source&gt;user&lt;/source&gt;&lt;content&gt;...</td>\n",
       "      <td>0</td>\n",
       "      <td>\\n&lt;message&gt;&lt;source&gt;assistant&lt;/source&gt;&lt;answer&gt;T...</td>\n",
       "      <td>True</td>\n",
       "      <td>1</td>\n",
       "    </tr>\n",
       "  </tbody>\n",
       "</table>\n",
       "</div>"
      ],
      "text/plain": [
       "                                               input  ideal   \n",
       "0  [{'role': 'system', 'content': 'You are LawStu...  False  \\\n",
       "1  [{'role': 'system', 'content': 'You are LawStu...  False   \n",
       "2  [{'role': 'system', 'content': 'You are LawStu...   True   \n",
       "3  [{'role': 'system', 'content': 'You are LawStu...  False   \n",
       "4  [{'role': 'system', 'content': 'You are LawStu...  False   \n",
       "\n",
       "                                     formatted_input  ground_truth   \n",
       "0  <input><message><source>user</source><content>...             0  \\\n",
       "1  <input><message><source>user</source><content>...             0   \n",
       "2  <input><message><source>user</source><content>...             1   \n",
       "3  <input><message><source>user</source><content>...             0   \n",
       "4  <input><message><source>user</source><content>...             0   \n",
       "\n",
       "                                                base base_answer  base_pred  \n",
       "0  \\n<message><source>assistant</source><answer>F...       False          0  \n",
       "1                              <answer>True</answer>        True          1  \n",
       "2  \\n<assistant_response>\\n<message>\\n<source>ass...        True          1  \n",
       "3  <message><source>Law Student</source><answer>T...        True          1  \n",
       "4  \\n<message><source>assistant</source><answer>T...        True          1  "
      ]
     },
     "execution_count": 51,
     "metadata": {},
     "output_type": "execute_result"
    }
   ],
   "source": [
    "def xmlify(messages):\n",
    "    xml = ''\n",
    "    for message in messages:\n",
    "        if message[\"role\"] == 'system':\n",
    "            continue\n",
    "        xml += f'<message><source>{message[\"role\"]}</source><content>{message[\"content\"]}</content></message>'\n",
    "\n",
    "    xml = f'<input>{xml}</input>'\n",
    "    return xml\n",
    "df['formatted_input'] = df['input'].apply(xmlify)\n",
    "df.head()"
   ]
  },
  {
   "cell_type": "code",
   "execution_count": 61,
   "metadata": {},
   "outputs": [],
   "source": [
    "from expert import LanguageExpert\n",
    "single_example_prompt = {\n",
    "    'name': 'Law Student', \n",
    "    'system_message': \"I am Law-GPT, I have perfect knowledge off the ABA Model Rules of Professional Conduct. To test my skills, give me a True/False questions about the ABA Rules and I will reply with the correct Answer. To justify my answer, I will provide a brief sentence explaining my reasoning.\",\n",
    "    'description': 'Correctly Answer True/False questions about the  ABA Rules of Professional Conduct.', \n",
    "    'example_input': '''<input><message><source>user</source><content>A lawyer is required to reveal information relating to the representation of a client if it is necessary to prevent the client from committing a crime that may result in financial injury to another person.</content></message></input>''', \n",
    "    'example_output': '''<message><source>assistant</source><reasoning>According to ABA Model Rule 1.6(b)(2), a lawyer may reveal information relating to the representation of a client if it is necessary to prevent the client from committing a crime that will result in financial injury, but they are not required to do so.</reasoning></message>\n",
    "<message><source>assistant</source><answer>False</answer></message>'''\n",
    "    }\n",
    "\n",
    "gpt4_params = {'model_name': 'gpt-4', 'temperature': 0.0, 'frequency_penalty': 1.0, 'presence_penalty': 0.5, 'n': 1, 'max_tokens': 256}\n",
    "expert = LanguageExpert(**single_example_prompt, model_params=gpt4_params)"
   ]
  },
  {
   "cell_type": "code",
   "execution_count": 62,
   "metadata": {},
   "outputs": [
    {
     "name": "stderr",
     "output_type": "stream",
     "text": [
      " 83%|████████▎ | 91/110 [25:05<04:21, 13.75s/it]Retrying langchain.chat_models.openai.ChatOpenAI.completion_with_retry.<locals>._completion_with_retry in 4.0 seconds as it raised Timeout: Request timed out: HTTPSConnectionPool(host='api.openai.com', port=443): Read timed out. (read timeout=60).\n",
      "100%|██████████| 110/110 [31:15<00:00, 17.05s/it]\n"
     ]
    },
    {
     "data": {
      "text/html": [
       "<div>\n",
       "<style scoped>\n",
       "    .dataframe tbody tr th:only-of-type {\n",
       "        vertical-align: middle;\n",
       "    }\n",
       "\n",
       "    .dataframe tbody tr th {\n",
       "        vertical-align: top;\n",
       "    }\n",
       "\n",
       "    .dataframe thead th {\n",
       "        text-align: right;\n",
       "    }\n",
       "</style>\n",
       "<table border=\"1\" class=\"dataframe\">\n",
       "  <thead>\n",
       "    <tr style=\"text-align: right;\">\n",
       "      <th></th>\n",
       "      <th>input</th>\n",
       "      <th>ideal</th>\n",
       "      <th>formatted_input</th>\n",
       "      <th>ground_truth</th>\n",
       "      <th>base</th>\n",
       "      <th>base_answer</th>\n",
       "      <th>base_pred</th>\n",
       "    </tr>\n",
       "  </thead>\n",
       "  <tbody>\n",
       "    <tr>\n",
       "      <th>0</th>\n",
       "      <td>[{'role': 'system', 'content': 'You are LawStu...</td>\n",
       "      <td>False</td>\n",
       "      <td>&lt;input&gt;&lt;message&gt;&lt;source&gt;user&lt;/source&gt;&lt;content&gt;...</td>\n",
       "      <td>0</td>\n",
       "      <td>&lt;message&gt;&lt;source&gt;assistant&lt;/source&gt;&lt;reasoning&gt;...</td>\n",
       "      <td>False</td>\n",
       "      <td>0</td>\n",
       "    </tr>\n",
       "    <tr>\n",
       "      <th>1</th>\n",
       "      <td>[{'role': 'system', 'content': 'You are LawStu...</td>\n",
       "      <td>False</td>\n",
       "      <td>&lt;input&gt;&lt;message&gt;&lt;source&gt;user&lt;/source&gt;&lt;content&gt;...</td>\n",
       "      <td>0</td>\n",
       "      <td>&lt;message&gt;&lt;source&gt;assistant&lt;/source&gt;&lt;reasoning&gt;...</td>\n",
       "      <td>False</td>\n",
       "      <td>0</td>\n",
       "    </tr>\n",
       "    <tr>\n",
       "      <th>2</th>\n",
       "      <td>[{'role': 'system', 'content': 'You are LawStu...</td>\n",
       "      <td>True</td>\n",
       "      <td>&lt;input&gt;&lt;message&gt;&lt;source&gt;user&lt;/source&gt;&lt;content&gt;...</td>\n",
       "      <td>1</td>\n",
       "      <td>&lt;message&gt;&lt;source&gt;assistant&lt;/source&gt;&lt;reasoning&gt;...</td>\n",
       "      <td>True</td>\n",
       "      <td>1</td>\n",
       "    </tr>\n",
       "    <tr>\n",
       "      <th>3</th>\n",
       "      <td>[{'role': 'system', 'content': 'You are LawStu...</td>\n",
       "      <td>False</td>\n",
       "      <td>&lt;input&gt;&lt;message&gt;&lt;source&gt;user&lt;/source&gt;&lt;content&gt;...</td>\n",
       "      <td>0</td>\n",
       "      <td>&lt;message&gt;&lt;source&gt;assistant&lt;/source&gt;&lt;reasoning&gt;...</td>\n",
       "      <td>False</td>\n",
       "      <td>0</td>\n",
       "    </tr>\n",
       "    <tr>\n",
       "      <th>4</th>\n",
       "      <td>[{'role': 'system', 'content': 'You are LawStu...</td>\n",
       "      <td>False</td>\n",
       "      <td>&lt;input&gt;&lt;message&gt;&lt;source&gt;user&lt;/source&gt;&lt;content&gt;...</td>\n",
       "      <td>0</td>\n",
       "      <td>&lt;message&gt;&lt;source&gt;assistant&lt;/source&gt;&lt;reasoning&gt;...</td>\n",
       "      <td>False</td>\n",
       "      <td>0</td>\n",
       "    </tr>\n",
       "  </tbody>\n",
       "</table>\n",
       "</div>"
      ],
      "text/plain": [
       "                                               input  ideal   \n",
       "0  [{'role': 'system', 'content': 'You are LawStu...  False  \\\n",
       "1  [{'role': 'system', 'content': 'You are LawStu...  False   \n",
       "2  [{'role': 'system', 'content': 'You are LawStu...   True   \n",
       "3  [{'role': 'system', 'content': 'You are LawStu...  False   \n",
       "4  [{'role': 'system', 'content': 'You are LawStu...  False   \n",
       "\n",
       "                                     formatted_input  ground_truth   \n",
       "0  <input><message><source>user</source><content>...             0  \\\n",
       "1  <input><message><source>user</source><content>...             0   \n",
       "2  <input><message><source>user</source><content>...             1   \n",
       "3  <input><message><source>user</source><content>...             0   \n",
       "4  <input><message><source>user</source><content>...             0   \n",
       "\n",
       "                                                base base_answer  base_pred  \n",
       "0  <message><source>assistant</source><reasoning>...       False          0  \n",
       "1  <message><source>assistant</source><reasoning>...       False          0  \n",
       "2  <message><source>assistant</source><reasoning>...        True          1  \n",
       "3  <message><source>assistant</source><reasoning>...       False          0  \n",
       "4  <message><source>assistant</source><reasoning>...       False          0  "
      ]
     },
     "execution_count": 62,
     "metadata": {},
     "output_type": "execute_result"
    }
   ],
   "source": [
    "df['base'] = df.progress_apply(lambda x: expert(x['formatted_input']), axis=1)\n",
    "df['base_answer'] = df.apply(lambda x: extract(x['base']), axis=1)\n",
    "df['base_pred'] = df.base_answer.map(target_numbers)\n",
    "df.head()"
   ]
  },
  {
   "cell_type": "code",
   "execution_count": 63,
   "metadata": {},
   "outputs": [
    {
     "name": "stdout",
     "output_type": "stream",
     "text": [
      "              precision    recall  f1-score   support\n",
      "\n",
      "       False       0.92      0.87      0.89        68\n",
      "        True       0.80      0.88      0.84        42\n",
      "\n",
      "    accuracy                           0.87       110\n",
      "   macro avg       0.86      0.87      0.87       110\n",
      "weighted avg       0.88      0.87      0.87       110\n",
      "\n"
     ]
    }
   ],
   "source": [
    "from sklearn.metrics import classification_report\n",
    "y_true = df['ground_truth']\n",
    "y_pred = df['base_pred']\n",
    "report = classification_report(y_true, y_pred,target_names=target_names.values(), labels=list(target_names.keys()), zero_division=1)\n",
    "print(report)"
   ]
  },
  {
   "cell_type": "code",
   "execution_count": 64,
   "metadata": {},
   "outputs": [
    {
     "data": {
      "text/plain": [
       "<sklearn.metrics._plot.confusion_matrix.ConfusionMatrixDisplay at 0x1ff5235c880>"
      ]
     },
     "execution_count": 64,
     "metadata": {},
     "output_type": "execute_result"
    },
    {
     "data": {
      "image/png": "[encoded data removed]",
      "text/plain": [
       "<Figure size 640x480 with 2 Axes>"
      ]
     },
     "metadata": {},
     "output_type": "display_data"
    }
   ],
   "source": [
    "from sklearn.metrics import confusion_matrix, ConfusionMatrixDisplay\n",
    "matrix = confusion_matrix(y_true, y_pred, labels=list(target_names.keys()))\n",
    "disp = ConfusionMatrixDisplay(confusion_matrix=matrix, display_labels=target_names.values())\n",
    "disp.plot()"
   ]
  },
  {
   "attachments": {},
   "cell_type": "markdown",
   "metadata": {},
   "source": [
    "Nearly an A student! But we took a massive hit on latency. Let's try Claude out and swap out the example to a True Negative and see how that works. "
   ]
  },
  {
   "attachments": {},
   "cell_type": "markdown",
   "metadata": {},
   "source": [
    "## Claude-v1.3 with chain of thought. "
   ]
  },
  {
   "cell_type": "code",
   "execution_count": 43,
   "metadata": {},
   "outputs": [],
   "source": [
    "from expert import LanguageExpert\n",
    "single_example_prompt = {\n",
    "    'name': 'Law Student', \n",
    "    'system_message': \"I am Law-GPT, I have perfect knowledge off the ABA Model Rules of Professional Conduct. To test my skills, give me a True/False questions about the ABA Rules and I will reply with the correct Answer.\",\n",
    "    'description': 'Correctly Answer True/False questions about the  ABA Rules of Professional Conduct. To justify my answer, I will provide a brief sentence explaining my reasoning.', \n",
    "    'example_input': '''<input><message><source>user</source><content>A lawyer is required to reveal information relating to the representation of a client if it is necessary to prevent the client from committing a crime that may result in financial injury to another person.</content></message></input>''', \n",
    "    'example_output': '''<message><source>assistant</source><reasoning>According to ABA Model Rule 1.6(b)(2), a lawyer may reveal information relating to the representation of a client if it is necessary to prevent the client from committing a crime that will result in financial injury, but they are not required to do so.</reasoning></message>\n",
    "<message><source>assistant</source><answer>False</answer></message>'''\n",
    "    }\n",
    "claude_params = {'model_name': 'claude-v1.3', 'temperature': 0.0, 'frequency_penalty': 1.0, 'presence_penalty': 0.5, 'n': 1, 'max_tokens': 128}\n",
    "expert = LanguageExpert(**single_example_prompt, model_params=claude_params)"
   ]
  },
  {
   "cell_type": "code",
   "execution_count": 44,
   "metadata": {},
   "outputs": [
    {
     "name": "stderr",
     "output_type": "stream",
     "text": [
      "100%|██████████| 110/110 [04:29<00:00,  2.45s/it]\n"
     ]
    },
    {
     "data": {
      "text/html": [
       "<div>\n",
       "<style scoped>\n",
       "    .dataframe tbody tr th:only-of-type {\n",
       "        vertical-align: middle;\n",
       "    }\n",
       "\n",
       "    .dataframe tbody tr th {\n",
       "        vertical-align: top;\n",
       "    }\n",
       "\n",
       "    .dataframe thead th {\n",
       "        text-align: right;\n",
       "    }\n",
       "</style>\n",
       "<table border=\"1\" class=\"dataframe\">\n",
       "  <thead>\n",
       "    <tr style=\"text-align: right;\">\n",
       "      <th></th>\n",
       "      <th>input</th>\n",
       "      <th>ideal</th>\n",
       "      <th>formatted_input</th>\n",
       "      <th>ground_truth</th>\n",
       "      <th>base</th>\n",
       "      <th>base_answer</th>\n",
       "      <th>base_pred</th>\n",
       "    </tr>\n",
       "  </thead>\n",
       "  <tbody>\n",
       "    <tr>\n",
       "      <th>0</th>\n",
       "      <td>[{'role': 'system', 'content': 'You are LawStu...</td>\n",
       "      <td>False</td>\n",
       "      <td>&lt;input&gt;&lt;message&gt;&lt;source&gt;user&lt;/source&gt;&lt;content&gt;...</td>\n",
       "      <td>0</td>\n",
       "      <td>\\n&lt;message&gt;&lt;source&gt;assistant&lt;/source&gt;&lt;answer&gt;F...</td>\n",
       "      <td>False</td>\n",
       "      <td>0</td>\n",
       "    </tr>\n",
       "    <tr>\n",
       "      <th>1</th>\n",
       "      <td>[{'role': 'system', 'content': 'You are LawStu...</td>\n",
       "      <td>False</td>\n",
       "      <td>&lt;input&gt;&lt;message&gt;&lt;source&gt;user&lt;/source&gt;&lt;content&gt;...</td>\n",
       "      <td>0</td>\n",
       "      <td>&lt;message&gt;&lt;source&gt;assistant&lt;/source&gt;&lt;answer&gt;Fal...</td>\n",
       "      <td>False</td>\n",
       "      <td>0</td>\n",
       "    </tr>\n",
       "    <tr>\n",
       "      <th>2</th>\n",
       "      <td>[{'role': 'system', 'content': 'You are LawStu...</td>\n",
       "      <td>True</td>\n",
       "      <td>&lt;input&gt;&lt;message&gt;&lt;source&gt;user&lt;/source&gt;&lt;content&gt;...</td>\n",
       "      <td>1</td>\n",
       "      <td>&lt;message&gt;&lt;source&gt;assistant&lt;/source&gt;&lt;answer&gt; Tr...</td>\n",
       "      <td>True</td>\n",
       "      <td>1</td>\n",
       "    </tr>\n",
       "    <tr>\n",
       "      <th>3</th>\n",
       "      <td>[{'role': 'system', 'content': 'You are LawStu...</td>\n",
       "      <td>False</td>\n",
       "      <td>&lt;input&gt;&lt;message&gt;&lt;source&gt;user&lt;/source&gt;&lt;content&gt;...</td>\n",
       "      <td>0</td>\n",
       "      <td>\\n&lt;message&gt;&lt;source&gt;assistant&lt;/source&gt;&lt;answer&gt;T...</td>\n",
       "      <td>True</td>\n",
       "      <td>1</td>\n",
       "    </tr>\n",
       "    <tr>\n",
       "      <th>4</th>\n",
       "      <td>[{'role': 'system', 'content': 'You are LawStu...</td>\n",
       "      <td>False</td>\n",
       "      <td>&lt;input&gt;&lt;message&gt;&lt;source&gt;user&lt;/source&gt;&lt;content&gt;...</td>\n",
       "      <td>0</td>\n",
       "      <td>&lt;message&gt;&lt;source&gt;assistant&lt;/source&gt;&lt;reasoning&gt;...</td>\n",
       "      <td>True</td>\n",
       "      <td>1</td>\n",
       "    </tr>\n",
       "  </tbody>\n",
       "</table>\n",
       "</div>"
      ],
      "text/plain": [
       "                                               input  ideal   \n",
       "0  [{'role': 'system', 'content': 'You are LawStu...  False  \\\n",
       "1  [{'role': 'system', 'content': 'You are LawStu...  False   \n",
       "2  [{'role': 'system', 'content': 'You are LawStu...   True   \n",
       "3  [{'role': 'system', 'content': 'You are LawStu...  False   \n",
       "4  [{'role': 'system', 'content': 'You are LawStu...  False   \n",
       "\n",
       "                                     formatted_input  ground_truth   \n",
       "0  <input><message><source>user</source><content>...             0  \\\n",
       "1  <input><message><source>user</source><content>...             0   \n",
       "2  <input><message><source>user</source><content>...             1   \n",
       "3  <input><message><source>user</source><content>...             0   \n",
       "4  <input><message><source>user</source><content>...             0   \n",
       "\n",
       "                                                base base_answer  base_pred  \n",
       "0  \\n<message><source>assistant</source><answer>F...       False          0  \n",
       "1  <message><source>assistant</source><answer>Fal...       False          0  \n",
       "2  <message><source>assistant</source><answer> Tr...        True          1  \n",
       "3  \\n<message><source>assistant</source><answer>T...        True          1  \n",
       "4  <message><source>assistant</source><reasoning>...        True          1  "
      ]
     },
     "execution_count": 44,
     "metadata": {},
     "output_type": "execute_result"
    }
   ],
   "source": [
    "df['base'] = df.progress_apply(lambda x: expert(x['formatted_input']), axis=1)\n",
    "df['base_answer'] = df.apply(lambda x: extract(x['base']), axis=1)\n",
    "df['base_pred'] = df.base_answer.map(target_numbers)\n",
    "df.head()"
   ]
  },
  {
   "cell_type": "code",
   "execution_count": 45,
   "metadata": {},
   "outputs": [
    {
     "name": "stdout",
     "output_type": "stream",
     "text": [
      "              precision    recall  f1-score   support\n",
      "\n",
      "       False       0.79      0.85      0.82        68\n",
      "        True       0.73      0.64      0.68        42\n",
      "\n",
      "    accuracy                           0.77       110\n",
      "   macro avg       0.76      0.75      0.75       110\n",
      "weighted avg       0.77      0.77      0.77       110\n",
      "\n"
     ]
    }
   ],
   "source": [
    "from sklearn.metrics import classification_report\n",
    "y_true = df['ground_truth']\n",
    "y_pred = df['base_pred']\n",
    "report = classification_report(y_true, y_pred,target_names=target_names.values(), labels=list(target_names.keys()), zero_division=1)\n",
    "print(report)"
   ]
  },
  {
   "cell_type": "code",
   "execution_count": 46,
   "metadata": {},
   "outputs": [
    {
     "data": {
      "text/plain": [
       "<sklearn.metrics._plot.confusion_matrix.ConfusionMatrixDisplay at 0x1ff52161d30>"
      ]
     },
     "execution_count": 46,
     "metadata": {},
     "output_type": "execute_result"
    },
    {
     "data": {
      "image/png": "[encoded data removed]",
      "text/plain": [
       "<Figure size 640x480 with 2 Axes>"
      ]
     },
     "metadata": {},
     "output_type": "display_data"
    }
   ],
   "source": [
    "from sklearn.metrics import confusion_matrix, ConfusionMatrixDisplay\n",
    "matrix = confusion_matrix(y_true, y_pred, labels=list(target_names.keys()))\n",
    "disp = ConfusionMatrixDisplay(confusion_matrix=matrix, display_labels=target_names.values())\n",
    "disp.plot()"
   ]
  },
  {
   "attachments": {},
   "cell_type": "markdown",
   "metadata": {},
   "source": [
    "Looks like GPT-4 is the crown kind. Anthropic puts up a good fight though! Exceeds GPT-3.5 performance across the board and with the lowes latency of any of the models. "
   ]
  },
  {
   "attachments": {},
   "cell_type": "markdown",
   "metadata": {},
   "source": [
    "## Claude-v1.3 without chain of thought. "
   ]
  },
  {
   "cell_type": "code",
   "execution_count": 65,
   "metadata": {},
   "outputs": [],
   "source": [
    "from expert import LanguageExpert\n",
    "single_example_prompt = {\n",
    "    'name': 'Law Student', \n",
    "    'system_message': \"I am Law-GPT, I have perfect knowledge off the ABA Model Rules of Professional Conduct. To test my skills, give me a True/False questions about the ABA Rules and I will reply with the correct Answer.\",\n",
    "    'description': 'Correctly Answer True/False questions about the  ABA Rules of Professional Conduct.', \n",
    "    'example_input': '''<input><content>A lawyer is required to reveal information relating to the representation of a client if it is necessary to prevent the client from committing a crime that may result in financial injury to another person.</content></message></input>''', \n",
    "    'example_output': '''<message><answer>False</answer></message>'''\n",
    "    }\n",
    "claude_params = {'model_name': 'claude-v1.3', 'temperature': 0.0, 'frequency_penalty': 1.0, 'presence_penalty': 0.5, 'n': 1, 'max_tokens': 128}\n",
    "expert = LanguageExpert(**single_example_prompt, model_params=claude_params)"
   ]
  },
  {
   "cell_type": "code",
   "execution_count": 66,
   "metadata": {},
   "outputs": [
    {
     "name": "stderr",
     "output_type": "stream",
     "text": [
      "100%|██████████| 110/110 [02:17<00:00,  1.25s/it]\n"
     ]
    },
    {
     "data": {
      "text/html": [
       "<div>\n",
       "<style scoped>\n",
       "    .dataframe tbody tr th:only-of-type {\n",
       "        vertical-align: middle;\n",
       "    }\n",
       "\n",
       "    .dataframe tbody tr th {\n",
       "        vertical-align: top;\n",
       "    }\n",
       "\n",
       "    .dataframe thead th {\n",
       "        text-align: right;\n",
       "    }\n",
       "</style>\n",
       "<table border=\"1\" class=\"dataframe\">\n",
       "  <thead>\n",
       "    <tr style=\"text-align: right;\">\n",
       "      <th></th>\n",
       "      <th>input</th>\n",
       "      <th>ideal</th>\n",
       "      <th>formatted_input</th>\n",
       "      <th>ground_truth</th>\n",
       "      <th>base</th>\n",
       "      <th>base_answer</th>\n",
       "      <th>base_pred</th>\n",
       "    </tr>\n",
       "  </thead>\n",
       "  <tbody>\n",
       "    <tr>\n",
       "      <th>0</th>\n",
       "      <td>[{'role': 'system', 'content': 'You are LawStu...</td>\n",
       "      <td>False</td>\n",
       "      <td>&lt;input&gt;&lt;message&gt;&lt;source&gt;user&lt;/source&gt;&lt;content&gt;...</td>\n",
       "      <td>0</td>\n",
       "      <td>&lt;message&gt;&lt;answer&gt;True&lt;/answer&gt;&lt;/message&gt;</td>\n",
       "      <td>True</td>\n",
       "      <td>1</td>\n",
       "    </tr>\n",
       "    <tr>\n",
       "      <th>1</th>\n",
       "      <td>[{'role': 'system', 'content': 'You are LawStu...</td>\n",
       "      <td>False</td>\n",
       "      <td>&lt;input&gt;&lt;message&gt;&lt;source&gt;user&lt;/source&gt;&lt;content&gt;...</td>\n",
       "      <td>0</td>\n",
       "      <td>\\n&lt;example_output&gt; \\n&lt;message&gt;\\n&lt;answer&gt;False&lt;...</td>\n",
       "      <td>False</td>\n",
       "      <td>0</td>\n",
       "    </tr>\n",
       "    <tr>\n",
       "      <th>2</th>\n",
       "      <td>[{'role': 'system', 'content': 'You are LawStu...</td>\n",
       "      <td>True</td>\n",
       "      <td>&lt;input&gt;&lt;message&gt;&lt;source&gt;user&lt;/source&gt;&lt;content&gt;...</td>\n",
       "      <td>1</td>\n",
       "      <td>\\n&lt;message&gt;&lt;answer&gt;True&lt;/answer&gt;&lt;/message&gt;</td>\n",
       "      <td>True</td>\n",
       "      <td>1</td>\n",
       "    </tr>\n",
       "    <tr>\n",
       "      <th>3</th>\n",
       "      <td>[{'role': 'system', 'content': 'You are LawStu...</td>\n",
       "      <td>False</td>\n",
       "      <td>&lt;input&gt;&lt;message&gt;&lt;source&gt;user&lt;/source&gt;&lt;content&gt;...</td>\n",
       "      <td>0</td>\n",
       "      <td>\\n&lt;assistant_response&gt;\\n&lt;message&gt;\\n&lt;answer&gt;Tru...</td>\n",
       "      <td>True</td>\n",
       "      <td>1</td>\n",
       "    </tr>\n",
       "    <tr>\n",
       "      <th>4</th>\n",
       "      <td>[{'role': 'system', 'content': 'You are LawStu...</td>\n",
       "      <td>False</td>\n",
       "      <td>&lt;input&gt;&lt;message&gt;&lt;source&gt;user&lt;/source&gt;&lt;content&gt;...</td>\n",
       "      <td>0</td>\n",
       "      <td>&lt;message&gt;&lt;answer&gt;True&lt;/answer&gt;&lt;/message&gt;</td>\n",
       "      <td>True</td>\n",
       "      <td>1</td>\n",
       "    </tr>\n",
       "  </tbody>\n",
       "</table>\n",
       "</div>"
      ],
      "text/plain": [
       "                                               input  ideal   \n",
       "0  [{'role': 'system', 'content': 'You are LawStu...  False  \\\n",
       "1  [{'role': 'system', 'content': 'You are LawStu...  False   \n",
       "2  [{'role': 'system', 'content': 'You are LawStu...   True   \n",
       "3  [{'role': 'system', 'content': 'You are LawStu...  False   \n",
       "4  [{'role': 'system', 'content': 'You are LawStu...  False   \n",
       "\n",
       "                                     formatted_input  ground_truth   \n",
       "0  <input><message><source>user</source><content>...             0  \\\n",
       "1  <input><message><source>user</source><content>...             0   \n",
       "2  <input><message><source>user</source><content>...             1   \n",
       "3  <input><message><source>user</source><content>...             0   \n",
       "4  <input><message><source>user</source><content>...             0   \n",
       "\n",
       "                                                base base_answer  base_pred  \n",
       "0           <message><answer>True</answer></message>        True          1  \n",
       "1  \\n<example_output> \\n<message>\\n<answer>False<...       False          0  \n",
       "2         \\n<message><answer>True</answer></message>        True          1  \n",
       "3  \\n<assistant_response>\\n<message>\\n<answer>Tru...        True          1  \n",
       "4           <message><answer>True</answer></message>        True          1  "
      ]
     },
     "execution_count": 66,
     "metadata": {},
     "output_type": "execute_result"
    }
   ],
   "source": [
    "df['base'] = df.progress_apply(lambda x: expert(x['formatted_input']), axis=1)\n",
    "df['base_answer'] = df.apply(lambda x: extract(x['base']), axis=1)\n",
    "df['base_pred'] = df.base_answer.map(target_numbers)\n",
    "df.head()"
   ]
  },
  {
   "cell_type": "code",
   "execution_count": 67,
   "metadata": {},
   "outputs": [
    {
     "name": "stdout",
     "output_type": "stream",
     "text": [
      "              precision    recall  f1-score   support\n",
      "\n",
      "       False       0.83      0.65      0.73        68\n",
      "        True       0.58      0.79      0.67        42\n",
      "\n",
      "    accuracy                           0.70       110\n",
      "   macro avg       0.70      0.72      0.70       110\n",
      "weighted avg       0.73      0.70      0.70       110\n",
      "\n"
     ]
    }
   ],
   "source": [
    "from sklearn.metrics import classification_report\n",
    "y_true = df['ground_truth']\n",
    "y_pred = df['base_pred']\n",
    "report = classification_report(y_true, y_pred,target_names=target_names.values(), labels=list(target_names.keys()), zero_division=1)\n",
    "print(report)"
   ]
  },
  {
   "cell_type": "code",
   "execution_count": 68,
   "metadata": {},
   "outputs": [
    {
     "data": {
      "text/plain": [
       "<sklearn.metrics._plot.confusion_matrix.ConfusionMatrixDisplay at 0x1ff5240e9a0>"
      ]
     },
     "execution_count": 68,
     "metadata": {},
     "output_type": "execute_result"
    },
    {
     "data": {
      "image/png": "[encoded data removed]",
      "text/plain": [
       "<Figure size 640x480 with 2 Axes>"
      ]
     },
     "metadata": {},
     "output_type": "display_data"
    }
   ],
   "source": [
    "from sklearn.metrics import confusion_matrix, ConfusionMatrixDisplay\n",
    "matrix = confusion_matrix(y_true, y_pred, labels=list(target_names.keys()))\n",
    "disp = ConfusionMatrixDisplay(confusion_matrix=matrix, display_labels=target_names.values())\n",
    "disp.plot()"
   ]
  },
  {
   "attachments": {},
   "cell_type": "markdown",
   "metadata": {},
   "source": [
    "Even without chain of thought, we get excellent results. And we cut inference time in half! \n",
    "\n",
    "From now on due to cost and latency and an exponential explosion of permutations, I will be doing all testing in Claude since it's my personal favorite. However, I will continue writing these using my expert backend which easily supports OpenAI and can be adapted to support any other backend.\n",
    "\n",
    "Ideall, prompt engineering insights should be somewhat cross platform, but that still remains to be proven."
   ]
  }
 ],
 "metadata": {
  "kernelspec": {
   "display_name": "base",
   "language": "python",
   "name": "python3"
  },
  "language_info": {
   "codemirror_mode": {
    "name": "ipython",
    "version": 3
   },
   "file_extension": ".py",
   "mimetype": "text/x-python",
   "name": "python",
   "nbconvert_exporter": "python",
   "pygments_lexer": "ipython3",
   "version": "3.9.13"
  },
  "orig_nbformat": 4
 },
 "nbformat": 4,
 "nbformat_minor": 2
}
